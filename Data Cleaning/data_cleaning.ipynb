{
 "cells": [
  {
   "cell_type": "code",
   "execution_count": 31,
   "metadata": {},
   "outputs": [],
   "source": [
    "import pandas as pd\n",
    "import numpy as np"
   ]
  },
  {
   "cell_type": "code",
   "execution_count": 32,
   "metadata": {},
   "outputs": [
    {
     "data": {
      "text/html": [
       "<div>\n",
       "<style scoped>\n",
       "    .dataframe tbody tr th:only-of-type {\n",
       "        vertical-align: middle;\n",
       "    }\n",
       "\n",
       "    .dataframe tbody tr th {\n",
       "        vertical-align: top;\n",
       "    }\n",
       "\n",
       "    .dataframe thead th {\n",
       "        text-align: right;\n",
       "    }\n",
       "</style>\n",
       "<table border=\"1\" class=\"dataframe\">\n",
       "  <thead>\n",
       "    <tr style=\"text-align: right;\">\n",
       "      <th></th>\n",
       "      <th>Identifier</th>\n",
       "      <th>Edition Statement</th>\n",
       "      <th>Place of Publication</th>\n",
       "      <th>Date of Publication</th>\n",
       "      <th>Publisher</th>\n",
       "      <th>Title</th>\n",
       "      <th>Author</th>\n",
       "      <th>Contributors</th>\n",
       "      <th>Corporate Author</th>\n",
       "      <th>Corporate Contributors</th>\n",
       "      <th>Former owner</th>\n",
       "      <th>Engraver</th>\n",
       "      <th>Issuance type</th>\n",
       "      <th>Flickr URL</th>\n",
       "      <th>Shelfmarks</th>\n",
       "    </tr>\n",
       "  </thead>\n",
       "  <tbody>\n",
       "    <tr>\n",
       "      <th>0</th>\n",
       "      <td>206</td>\n",
       "      <td>NaN</td>\n",
       "      <td>London</td>\n",
       "      <td>1879 [1878]</td>\n",
       "      <td>S. Tinsley &amp; Co.</td>\n",
       "      <td>Walter Forbes. [A novel.] By A. A</td>\n",
       "      <td>A. A.</td>\n",
       "      <td>FORBES, Walter.</td>\n",
       "      <td>NaN</td>\n",
       "      <td>NaN</td>\n",
       "      <td>NaN</td>\n",
       "      <td>NaN</td>\n",
       "      <td>monographic</td>\n",
       "      <td>http://www.flickr.com/photos/britishlibrary/ta...</td>\n",
       "      <td>British Library HMNTS 12641.b.30.</td>\n",
       "    </tr>\n",
       "    <tr>\n",
       "      <th>1</th>\n",
       "      <td>216</td>\n",
       "      <td>NaN</td>\n",
       "      <td>London; Virtue &amp; Yorston</td>\n",
       "      <td>1868</td>\n",
       "      <td>Virtue &amp; Co.</td>\n",
       "      <td>All for Greed. [A novel. The dedication signed...</td>\n",
       "      <td>A., A. A.</td>\n",
       "      <td>BLAZE DE BURY, Marie Pauline Rose - Baroness</td>\n",
       "      <td>NaN</td>\n",
       "      <td>NaN</td>\n",
       "      <td>NaN</td>\n",
       "      <td>NaN</td>\n",
       "      <td>monographic</td>\n",
       "      <td>http://www.flickr.com/photos/britishlibrary/ta...</td>\n",
       "      <td>British Library HMNTS 12626.cc.2.</td>\n",
       "    </tr>\n",
       "    <tr>\n",
       "      <th>2</th>\n",
       "      <td>218</td>\n",
       "      <td>NaN</td>\n",
       "      <td>London</td>\n",
       "      <td>1869</td>\n",
       "      <td>Bradbury, Evans &amp; Co.</td>\n",
       "      <td>Love the Avenger. By the author of “All for Gr...</td>\n",
       "      <td>A., A. A.</td>\n",
       "      <td>BLAZE DE BURY, Marie Pauline Rose - Baroness</td>\n",
       "      <td>NaN</td>\n",
       "      <td>NaN</td>\n",
       "      <td>NaN</td>\n",
       "      <td>NaN</td>\n",
       "      <td>monographic</td>\n",
       "      <td>http://www.flickr.com/photos/britishlibrary/ta...</td>\n",
       "      <td>British Library HMNTS 12625.dd.1.</td>\n",
       "    </tr>\n",
       "    <tr>\n",
       "      <th>3</th>\n",
       "      <td>472</td>\n",
       "      <td>NaN</td>\n",
       "      <td>London</td>\n",
       "      <td>1851</td>\n",
       "      <td>James Darling</td>\n",
       "      <td>Welsh Sketches, chiefly ecclesiastical, to the...</td>\n",
       "      <td>A., E. S.</td>\n",
       "      <td>Appleyard, Ernest Silvanus.</td>\n",
       "      <td>NaN</td>\n",
       "      <td>NaN</td>\n",
       "      <td>NaN</td>\n",
       "      <td>NaN</td>\n",
       "      <td>monographic</td>\n",
       "      <td>http://www.flickr.com/photos/britishlibrary/ta...</td>\n",
       "      <td>British Library HMNTS 10369.bbb.15.</td>\n",
       "    </tr>\n",
       "    <tr>\n",
       "      <th>4</th>\n",
       "      <td>480</td>\n",
       "      <td>A new edition, revised, etc.</td>\n",
       "      <td>London</td>\n",
       "      <td>1857</td>\n",
       "      <td>Wertheim &amp; Macintosh</td>\n",
       "      <td>[The World in which I live, and my place in it...</td>\n",
       "      <td>A., E. S.</td>\n",
       "      <td>BROOME, John Henry.</td>\n",
       "      <td>NaN</td>\n",
       "      <td>NaN</td>\n",
       "      <td>NaN</td>\n",
       "      <td>NaN</td>\n",
       "      <td>monographic</td>\n",
       "      <td>http://www.flickr.com/photos/britishlibrary/ta...</td>\n",
       "      <td>British Library HMNTS 9007.d.28.</td>\n",
       "    </tr>\n",
       "  </tbody>\n",
       "</table>\n",
       "</div>"
      ],
      "text/plain": [
       "   Identifier             Edition Statement      Place of Publication  \\\n",
       "0         206                           NaN                    London   \n",
       "1         216                           NaN  London; Virtue & Yorston   \n",
       "2         218                           NaN                    London   \n",
       "3         472                           NaN                    London   \n",
       "4         480  A new edition, revised, etc.                    London   \n",
       "\n",
       "  Date of Publication              Publisher  \\\n",
       "0         1879 [1878]       S. Tinsley & Co.   \n",
       "1                1868           Virtue & Co.   \n",
       "2                1869  Bradbury, Evans & Co.   \n",
       "3                1851          James Darling   \n",
       "4                1857   Wertheim & Macintosh   \n",
       "\n",
       "                                               Title     Author  \\\n",
       "0                  Walter Forbes. [A novel.] By A. A      A. A.   \n",
       "1  All for Greed. [A novel. The dedication signed...  A., A. A.   \n",
       "2  Love the Avenger. By the author of “All for Gr...  A., A. A.   \n",
       "3  Welsh Sketches, chiefly ecclesiastical, to the...  A., E. S.   \n",
       "4  [The World in which I live, and my place in it...  A., E. S.   \n",
       "\n",
       "                                   Contributors  Corporate Author  \\\n",
       "0                               FORBES, Walter.               NaN   \n",
       "1  BLAZE DE BURY, Marie Pauline Rose - Baroness               NaN   \n",
       "2  BLAZE DE BURY, Marie Pauline Rose - Baroness               NaN   \n",
       "3                   Appleyard, Ernest Silvanus.               NaN   \n",
       "4                           BROOME, John Henry.               NaN   \n",
       "\n",
       "   Corporate Contributors Former owner  Engraver Issuance type  \\\n",
       "0                     NaN          NaN       NaN   monographic   \n",
       "1                     NaN          NaN       NaN   monographic   \n",
       "2                     NaN          NaN       NaN   monographic   \n",
       "3                     NaN          NaN       NaN   monographic   \n",
       "4                     NaN          NaN       NaN   monographic   \n",
       "\n",
       "                                          Flickr URL  \\\n",
       "0  http://www.flickr.com/photos/britishlibrary/ta...   \n",
       "1  http://www.flickr.com/photos/britishlibrary/ta...   \n",
       "2  http://www.flickr.com/photos/britishlibrary/ta...   \n",
       "3  http://www.flickr.com/photos/britishlibrary/ta...   \n",
       "4  http://www.flickr.com/photos/britishlibrary/ta...   \n",
       "\n",
       "                            Shelfmarks  \n",
       "0    British Library HMNTS 12641.b.30.  \n",
       "1    British Library HMNTS 12626.cc.2.  \n",
       "2    British Library HMNTS 12625.dd.1.  \n",
       "3  British Library HMNTS 10369.bbb.15.  \n",
       "4     British Library HMNTS 9007.d.28.  "
      ]
     },
     "execution_count": 32,
     "metadata": {},
     "output_type": "execute_result"
    }
   ],
   "source": [
    "df = pd.read_csv('BL-Flickr-Images-Book.csv')\n",
    "df.head()"
   ]
  },
  {
   "cell_type": "code",
   "execution_count": 33,
   "metadata": {},
   "outputs": [
    {
     "name": "stdout",
     "output_type": "stream",
     "text": [
      "<class 'pandas.core.frame.DataFrame'>\n",
      "RangeIndex: 8287 entries, 0 to 8286\n",
      "Data columns (total 15 columns):\n",
      " #   Column                  Non-Null Count  Dtype  \n",
      "---  ------                  --------------  -----  \n",
      " 0   Identifier              8287 non-null   int64  \n",
      " 1   Edition Statement       773 non-null    object \n",
      " 2   Place of Publication    8287 non-null   object \n",
      " 3   Date of Publication     8106 non-null   object \n",
      " 4   Publisher               4092 non-null   object \n",
      " 5   Title                   8287 non-null   object \n",
      " 6   Author                  6509 non-null   object \n",
      " 7   Contributors            8287 non-null   object \n",
      " 8   Corporate Author        0 non-null      float64\n",
      " 9   Corporate Contributors  0 non-null      float64\n",
      " 10  Former owner            1 non-null      object \n",
      " 11  Engraver                0 non-null      float64\n",
      " 12  Issuance type           8287 non-null   object \n",
      " 13  Flickr URL              8287 non-null   object \n",
      " 14  Shelfmarks              8287 non-null   object \n",
      "dtypes: float64(3), int64(1), object(11)\n",
      "memory usage: 971.3+ KB\n"
     ]
    }
   ],
   "source": [
    "df.info()"
   ]
  },
  {
   "cell_type": "code",
   "execution_count": 34,
   "metadata": {},
   "outputs": [
    {
     "data": {
      "text/html": [
       "<div>\n",
       "<style scoped>\n",
       "    .dataframe tbody tr th:only-of-type {\n",
       "        vertical-align: middle;\n",
       "    }\n",
       "\n",
       "    .dataframe tbody tr th {\n",
       "        vertical-align: top;\n",
       "    }\n",
       "\n",
       "    .dataframe thead th {\n",
       "        text-align: right;\n",
       "    }\n",
       "</style>\n",
       "<table border=\"1\" class=\"dataframe\">\n",
       "  <thead>\n",
       "    <tr style=\"text-align: right;\">\n",
       "      <th></th>\n",
       "      <th>Identifier</th>\n",
       "      <th>Corporate Author</th>\n",
       "      <th>Corporate Contributors</th>\n",
       "      <th>Engraver</th>\n",
       "    </tr>\n",
       "  </thead>\n",
       "  <tbody>\n",
       "    <tr>\n",
       "      <th>count</th>\n",
       "      <td>8.287000e+03</td>\n",
       "      <td>0.0</td>\n",
       "      <td>0.0</td>\n",
       "      <td>0.0</td>\n",
       "    </tr>\n",
       "    <tr>\n",
       "      <th>mean</th>\n",
       "      <td>2.017344e+06</td>\n",
       "      <td>NaN</td>\n",
       "      <td>NaN</td>\n",
       "      <td>NaN</td>\n",
       "    </tr>\n",
       "    <tr>\n",
       "      <th>std</th>\n",
       "      <td>1.190379e+06</td>\n",
       "      <td>NaN</td>\n",
       "      <td>NaN</td>\n",
       "      <td>NaN</td>\n",
       "    </tr>\n",
       "    <tr>\n",
       "      <th>min</th>\n",
       "      <td>2.060000e+02</td>\n",
       "      <td>NaN</td>\n",
       "      <td>NaN</td>\n",
       "      <td>NaN</td>\n",
       "    </tr>\n",
       "    <tr>\n",
       "      <th>25%</th>\n",
       "      <td>9.157875e+05</td>\n",
       "      <td>NaN</td>\n",
       "      <td>NaN</td>\n",
       "      <td>NaN</td>\n",
       "    </tr>\n",
       "    <tr>\n",
       "      <th>50%</th>\n",
       "      <td>2.043707e+06</td>\n",
       "      <td>NaN</td>\n",
       "      <td>NaN</td>\n",
       "      <td>NaN</td>\n",
       "    </tr>\n",
       "    <tr>\n",
       "      <th>75%</th>\n",
       "      <td>3.047430e+06</td>\n",
       "      <td>NaN</td>\n",
       "      <td>NaN</td>\n",
       "      <td>NaN</td>\n",
       "    </tr>\n",
       "    <tr>\n",
       "      <th>max</th>\n",
       "      <td>4.160339e+06</td>\n",
       "      <td>NaN</td>\n",
       "      <td>NaN</td>\n",
       "      <td>NaN</td>\n",
       "    </tr>\n",
       "  </tbody>\n",
       "</table>\n",
       "</div>"
      ],
      "text/plain": [
       "         Identifier  Corporate Author  Corporate Contributors  Engraver\n",
       "count  8.287000e+03               0.0                     0.0       0.0\n",
       "mean   2.017344e+06               NaN                     NaN       NaN\n",
       "std    1.190379e+06               NaN                     NaN       NaN\n",
       "min    2.060000e+02               NaN                     NaN       NaN\n",
       "25%    9.157875e+05               NaN                     NaN       NaN\n",
       "50%    2.043707e+06               NaN                     NaN       NaN\n",
       "75%    3.047430e+06               NaN                     NaN       NaN\n",
       "max    4.160339e+06               NaN                     NaN       NaN"
      ]
     },
     "execution_count": 34,
     "metadata": {},
     "output_type": "execute_result"
    }
   ],
   "source": [
    "df.describe()"
   ]
  },
  {
   "cell_type": "code",
   "execution_count": 35,
   "metadata": {},
   "outputs": [],
   "source": [
    "#drop kolom yang tidak dibutuhkan\n",
    "to_drop = ['Edition Statement', 'Corporate Author', 'Corporate Contributors',  'Former owner', 'Engraver', 'Contributors', 'Issuance type', 'Shelfmarks']"
   ]
  },
  {
   "cell_type": "code",
   "execution_count": 36,
   "metadata": {},
   "outputs": [],
   "source": [
    "df.drop(to_drop, inplace=True, axis=1)"
   ]
  },
  {
   "cell_type": "code",
   "execution_count": 37,
   "metadata": {},
   "outputs": [
    {
     "data": {
      "text/html": [
       "<div>\n",
       "<style scoped>\n",
       "    .dataframe tbody tr th:only-of-type {\n",
       "        vertical-align: middle;\n",
       "    }\n",
       "\n",
       "    .dataframe tbody tr th {\n",
       "        vertical-align: top;\n",
       "    }\n",
       "\n",
       "    .dataframe thead th {\n",
       "        text-align: right;\n",
       "    }\n",
       "</style>\n",
       "<table border=\"1\" class=\"dataframe\">\n",
       "  <thead>\n",
       "    <tr style=\"text-align: right;\">\n",
       "      <th></th>\n",
       "      <th>Identifier</th>\n",
       "      <th>Place of Publication</th>\n",
       "      <th>Date of Publication</th>\n",
       "      <th>Publisher</th>\n",
       "      <th>Title</th>\n",
       "      <th>Author</th>\n",
       "      <th>Flickr URL</th>\n",
       "    </tr>\n",
       "  </thead>\n",
       "  <tbody>\n",
       "    <tr>\n",
       "      <th>0</th>\n",
       "      <td>206</td>\n",
       "      <td>London</td>\n",
       "      <td>1879 [1878]</td>\n",
       "      <td>S. Tinsley &amp; Co.</td>\n",
       "      <td>Walter Forbes. [A novel.] By A. A</td>\n",
       "      <td>A. A.</td>\n",
       "      <td>http://www.flickr.com/photos/britishlibrary/ta...</td>\n",
       "    </tr>\n",
       "    <tr>\n",
       "      <th>1</th>\n",
       "      <td>216</td>\n",
       "      <td>London; Virtue &amp; Yorston</td>\n",
       "      <td>1868</td>\n",
       "      <td>Virtue &amp; Co.</td>\n",
       "      <td>All for Greed. [A novel. The dedication signed...</td>\n",
       "      <td>A., A. A.</td>\n",
       "      <td>http://www.flickr.com/photos/britishlibrary/ta...</td>\n",
       "    </tr>\n",
       "    <tr>\n",
       "      <th>2</th>\n",
       "      <td>218</td>\n",
       "      <td>London</td>\n",
       "      <td>1869</td>\n",
       "      <td>Bradbury, Evans &amp; Co.</td>\n",
       "      <td>Love the Avenger. By the author of “All for Gr...</td>\n",
       "      <td>A., A. A.</td>\n",
       "      <td>http://www.flickr.com/photos/britishlibrary/ta...</td>\n",
       "    </tr>\n",
       "    <tr>\n",
       "      <th>3</th>\n",
       "      <td>472</td>\n",
       "      <td>London</td>\n",
       "      <td>1851</td>\n",
       "      <td>James Darling</td>\n",
       "      <td>Welsh Sketches, chiefly ecclesiastical, to the...</td>\n",
       "      <td>A., E. S.</td>\n",
       "      <td>http://www.flickr.com/photos/britishlibrary/ta...</td>\n",
       "    </tr>\n",
       "    <tr>\n",
       "      <th>4</th>\n",
       "      <td>480</td>\n",
       "      <td>London</td>\n",
       "      <td>1857</td>\n",
       "      <td>Wertheim &amp; Macintosh</td>\n",
       "      <td>[The World in which I live, and my place in it...</td>\n",
       "      <td>A., E. S.</td>\n",
       "      <td>http://www.flickr.com/photos/britishlibrary/ta...</td>\n",
       "    </tr>\n",
       "  </tbody>\n",
       "</table>\n",
       "</div>"
      ],
      "text/plain": [
       "   Identifier      Place of Publication Date of Publication  \\\n",
       "0         206                    London         1879 [1878]   \n",
       "1         216  London; Virtue & Yorston                1868   \n",
       "2         218                    London                1869   \n",
       "3         472                    London                1851   \n",
       "4         480                    London                1857   \n",
       "\n",
       "               Publisher                                              Title  \\\n",
       "0       S. Tinsley & Co.                  Walter Forbes. [A novel.] By A. A   \n",
       "1           Virtue & Co.  All for Greed. [A novel. The dedication signed...   \n",
       "2  Bradbury, Evans & Co.  Love the Avenger. By the author of “All for Gr...   \n",
       "3          James Darling  Welsh Sketches, chiefly ecclesiastical, to the...   \n",
       "4   Wertheim & Macintosh  [The World in which I live, and my place in it...   \n",
       "\n",
       "      Author                                         Flickr URL  \n",
       "0      A. A.  http://www.flickr.com/photos/britishlibrary/ta...  \n",
       "1  A., A. A.  http://www.flickr.com/photos/britishlibrary/ta...  \n",
       "2  A., A. A.  http://www.flickr.com/photos/britishlibrary/ta...  \n",
       "3  A., E. S.  http://www.flickr.com/photos/britishlibrary/ta...  \n",
       "4  A., E. S.  http://www.flickr.com/photos/britishlibrary/ta...  "
      ]
     },
     "execution_count": 37,
     "metadata": {},
     "output_type": "execute_result"
    }
   ],
   "source": [
    "df.head()"
   ]
  },
  {
   "cell_type": "code",
   "execution_count": 38,
   "metadata": {},
   "outputs": [
    {
     "data": {
      "text/plain": [
       "True"
      ]
     },
     "execution_count": 38,
     "metadata": {},
     "output_type": "execute_result"
    }
   ],
   "source": [
    "df['Identifier'].is_unique"
   ]
  },
  {
   "cell_type": "code",
   "execution_count": 39,
   "metadata": {},
   "outputs": [
    {
     "data": {
      "text/html": [
       "<div>\n",
       "<style scoped>\n",
       "    .dataframe tbody tr th:only-of-type {\n",
       "        vertical-align: middle;\n",
       "    }\n",
       "\n",
       "    .dataframe tbody tr th {\n",
       "        vertical-align: top;\n",
       "    }\n",
       "\n",
       "    .dataframe thead th {\n",
       "        text-align: right;\n",
       "    }\n",
       "</style>\n",
       "<table border=\"1\" class=\"dataframe\">\n",
       "  <thead>\n",
       "    <tr style=\"text-align: right;\">\n",
       "      <th></th>\n",
       "      <th>Place of Publication</th>\n",
       "      <th>Date of Publication</th>\n",
       "      <th>Publisher</th>\n",
       "      <th>Title</th>\n",
       "      <th>Author</th>\n",
       "      <th>Flickr URL</th>\n",
       "    </tr>\n",
       "    <tr>\n",
       "      <th>Identifier</th>\n",
       "      <th></th>\n",
       "      <th></th>\n",
       "      <th></th>\n",
       "      <th></th>\n",
       "      <th></th>\n",
       "      <th></th>\n",
       "    </tr>\n",
       "  </thead>\n",
       "  <tbody>\n",
       "    <tr>\n",
       "      <th>206</th>\n",
       "      <td>London</td>\n",
       "      <td>1879 [1878]</td>\n",
       "      <td>S. Tinsley &amp; Co.</td>\n",
       "      <td>Walter Forbes. [A novel.] By A. A</td>\n",
       "      <td>A. A.</td>\n",
       "      <td>http://www.flickr.com/photos/britishlibrary/ta...</td>\n",
       "    </tr>\n",
       "    <tr>\n",
       "      <th>216</th>\n",
       "      <td>London; Virtue &amp; Yorston</td>\n",
       "      <td>1868</td>\n",
       "      <td>Virtue &amp; Co.</td>\n",
       "      <td>All for Greed. [A novel. The dedication signed...</td>\n",
       "      <td>A., A. A.</td>\n",
       "      <td>http://www.flickr.com/photos/britishlibrary/ta...</td>\n",
       "    </tr>\n",
       "    <tr>\n",
       "      <th>218</th>\n",
       "      <td>London</td>\n",
       "      <td>1869</td>\n",
       "      <td>Bradbury, Evans &amp; Co.</td>\n",
       "      <td>Love the Avenger. By the author of “All for Gr...</td>\n",
       "      <td>A., A. A.</td>\n",
       "      <td>http://www.flickr.com/photos/britishlibrary/ta...</td>\n",
       "    </tr>\n",
       "    <tr>\n",
       "      <th>472</th>\n",
       "      <td>London</td>\n",
       "      <td>1851</td>\n",
       "      <td>James Darling</td>\n",
       "      <td>Welsh Sketches, chiefly ecclesiastical, to the...</td>\n",
       "      <td>A., E. S.</td>\n",
       "      <td>http://www.flickr.com/photos/britishlibrary/ta...</td>\n",
       "    </tr>\n",
       "    <tr>\n",
       "      <th>480</th>\n",
       "      <td>London</td>\n",
       "      <td>1857</td>\n",
       "      <td>Wertheim &amp; Macintosh</td>\n",
       "      <td>[The World in which I live, and my place in it...</td>\n",
       "      <td>A., E. S.</td>\n",
       "      <td>http://www.flickr.com/photos/britishlibrary/ta...</td>\n",
       "    </tr>\n",
       "  </tbody>\n",
       "</table>\n",
       "</div>"
      ],
      "text/plain": [
       "                Place of Publication Date of Publication  \\\n",
       "Identifier                                                 \n",
       "206                           London         1879 [1878]   \n",
       "216         London; Virtue & Yorston                1868   \n",
       "218                           London                1869   \n",
       "472                           London                1851   \n",
       "480                           London                1857   \n",
       "\n",
       "                        Publisher  \\\n",
       "Identifier                          \n",
       "206              S. Tinsley & Co.   \n",
       "216                  Virtue & Co.   \n",
       "218         Bradbury, Evans & Co.   \n",
       "472                 James Darling   \n",
       "480          Wertheim & Macintosh   \n",
       "\n",
       "                                                        Title     Author  \\\n",
       "Identifier                                                                 \n",
       "206                         Walter Forbes. [A novel.] By A. A      A. A.   \n",
       "216         All for Greed. [A novel. The dedication signed...  A., A. A.   \n",
       "218         Love the Avenger. By the author of “All for Gr...  A., A. A.   \n",
       "472         Welsh Sketches, chiefly ecclesiastical, to the...  A., E. S.   \n",
       "480         [The World in which I live, and my place in it...  A., E. S.   \n",
       "\n",
       "                                                   Flickr URL  \n",
       "Identifier                                                     \n",
       "206         http://www.flickr.com/photos/britishlibrary/ta...  \n",
       "216         http://www.flickr.com/photos/britishlibrary/ta...  \n",
       "218         http://www.flickr.com/photos/britishlibrary/ta...  \n",
       "472         http://www.flickr.com/photos/britishlibrary/ta...  \n",
       "480         http://www.flickr.com/photos/britishlibrary/ta...  "
      ]
     },
     "execution_count": 39,
     "metadata": {},
     "output_type": "execute_result"
    }
   ],
   "source": [
    "df = df.set_index('Identifier')\n",
    "df.head()"
   ]
  },
  {
   "cell_type": "code",
   "execution_count": 40,
   "metadata": {},
   "outputs": [
    {
     "data": {
      "text/html": [
       "<div>\n",
       "<style scoped>\n",
       "    .dataframe tbody tr th:only-of-type {\n",
       "        vertical-align: middle;\n",
       "    }\n",
       "\n",
       "    .dataframe tbody tr th {\n",
       "        vertical-align: top;\n",
       "    }\n",
       "\n",
       "    .dataframe thead th {\n",
       "        text-align: right;\n",
       "    }\n",
       "</style>\n",
       "<table border=\"1\" class=\"dataframe\">\n",
       "  <thead>\n",
       "    <tr style=\"text-align: right;\">\n",
       "      <th></th>\n",
       "      <th>Place of Publication</th>\n",
       "      <th>Date of Publication</th>\n",
       "      <th>Publisher</th>\n",
       "      <th>Title</th>\n",
       "      <th>Author</th>\n",
       "      <th>Flickr URL</th>\n",
       "    </tr>\n",
       "    <tr>\n",
       "      <th>Identifier</th>\n",
       "      <th></th>\n",
       "      <th></th>\n",
       "      <th></th>\n",
       "      <th></th>\n",
       "      <th></th>\n",
       "      <th></th>\n",
       "    </tr>\n",
       "  </thead>\n",
       "  <tbody>\n",
       "    <tr>\n",
       "      <th>206</th>\n",
       "      <td>London</td>\n",
       "      <td>1879 [1878]</td>\n",
       "      <td>S. Tinsley &amp; Co.</td>\n",
       "      <td>Walter Forbes. [A novel.] By A. A</td>\n",
       "      <td>A. A.</td>\n",
       "      <td>http://www.flickr.com/photos/britishlibrary/ta...</td>\n",
       "    </tr>\n",
       "    <tr>\n",
       "      <th>216</th>\n",
       "      <td>London; Virtue &amp; Yorston</td>\n",
       "      <td>1868</td>\n",
       "      <td>Virtue &amp; Co.</td>\n",
       "      <td>All for Greed. [A novel. The dedication signed...</td>\n",
       "      <td>A., A. A.</td>\n",
       "      <td>http://www.flickr.com/photos/britishlibrary/ta...</td>\n",
       "    </tr>\n",
       "    <tr>\n",
       "      <th>218</th>\n",
       "      <td>London</td>\n",
       "      <td>1869</td>\n",
       "      <td>Bradbury, Evans &amp; Co.</td>\n",
       "      <td>Love the Avenger. By the author of “All for Gr...</td>\n",
       "      <td>A., A. A.</td>\n",
       "      <td>http://www.flickr.com/photos/britishlibrary/ta...</td>\n",
       "    </tr>\n",
       "  </tbody>\n",
       "</table>\n",
       "</div>"
      ],
      "text/plain": [
       "                Place of Publication Date of Publication  \\\n",
       "Identifier                                                 \n",
       "206                           London         1879 [1878]   \n",
       "216         London; Virtue & Yorston                1868   \n",
       "218                           London                1869   \n",
       "\n",
       "                        Publisher  \\\n",
       "Identifier                          \n",
       "206              S. Tinsley & Co.   \n",
       "216                  Virtue & Co.   \n",
       "218         Bradbury, Evans & Co.   \n",
       "\n",
       "                                                        Title     Author  \\\n",
       "Identifier                                                                 \n",
       "206                         Walter Forbes. [A novel.] By A. A      A. A.   \n",
       "216         All for Greed. [A novel. The dedication signed...  A., A. A.   \n",
       "218         Love the Avenger. By the author of “All for Gr...  A., A. A.   \n",
       "\n",
       "                                                   Flickr URL  \n",
       "Identifier                                                     \n",
       "206         http://www.flickr.com/photos/britishlibrary/ta...  \n",
       "216         http://www.flickr.com/photos/britishlibrary/ta...  \n",
       "218         http://www.flickr.com/photos/britishlibrary/ta...  "
      ]
     },
     "execution_count": 40,
     "metadata": {},
     "output_type": "execute_result"
    }
   ],
   "source": [
    "df.loc[206:218]"
   ]
  },
  {
   "cell_type": "code",
   "execution_count": 42,
   "metadata": {},
   "outputs": [
    {
     "data": {
      "text/plain": [
       "object    6\n",
       "dtype: int64"
      ]
     },
     "execution_count": 42,
     "metadata": {},
     "output_type": "execute_result"
    }
   ],
   "source": [
    "df.dtypes.value_counts()"
   ]
  },
  {
   "cell_type": "code",
   "execution_count": 44,
   "metadata": {},
   "outputs": [
    {
     "data": {
      "text/plain": [
       "Identifier\n",
       "1905           1888\n",
       "1929    1839, 38-54\n",
       "2836           1897\n",
       "2854           1865\n",
       "2956        1860-63\n",
       "2957           1873\n",
       "3017           1866\n",
       "3131           1899\n",
       "4598           1814\n",
       "4884           1820\n",
       "Name: Date of Publication, dtype: object"
      ]
     },
     "execution_count": 44,
     "metadata": {},
     "output_type": "execute_result"
    }
   ],
   "source": [
    "df.loc[1905:, 'Date of Publication'].head(10)"
   ]
  },
  {
   "cell_type": "code",
   "execution_count": 45,
   "metadata": {},
   "outputs": [],
   "source": [
    "regex = r'^(\\d{4})'"
   ]
  },
  {
   "cell_type": "code",
   "execution_count": 46,
   "metadata": {},
   "outputs": [
    {
     "data": {
      "text/plain": [
       "Identifier\n",
       "206    1879\n",
       "216    1868\n",
       "218    1869\n",
       "472    1851\n",
       "480    1857\n",
       "Name: Date of Publication, dtype: object"
      ]
     },
     "execution_count": 46,
     "metadata": {},
     "output_type": "execute_result"
    }
   ],
   "source": [
    "extr = df['Date of Publication'].str.extract(r'^(\\d{4})', expand = False)\n",
    "extr.head()"
   ]
  },
  {
   "cell_type": "code",
   "execution_count": 51,
   "metadata": {},
   "outputs": [
    {
     "data": {
      "text/plain": [
       "dtype('float64')"
      ]
     },
     "execution_count": 51,
     "metadata": {},
     "output_type": "execute_result"
    }
   ],
   "source": [
    "df['Date of Publication'] = pd.to_numeric(extr)\n",
    "df['Date of Publication'].dtype"
   ]
  },
  {
   "cell_type": "code",
   "execution_count": 52,
   "metadata": {},
   "outputs": [
    {
     "data": {
      "text/plain": [
       "0.11717147339205986"
      ]
     },
     "execution_count": 52,
     "metadata": {},
     "output_type": "execute_result"
    }
   ],
   "source": [
    "df['Date of Publication'].isnull().sum() / len(df)"
   ]
  },
  {
   "cell_type": "code",
   "execution_count": 53,
   "metadata": {},
   "outputs": [
    {
     "data": {
      "text/plain": [
       "Identifier\n",
       "206                                  London\n",
       "216                London; Virtue & Yorston\n",
       "218                                  London\n",
       "472                                  London\n",
       "480                                  London\n",
       "481                                  London\n",
       "519                                  London\n",
       "667     pp. 40. G. Bryan & Co: Oxford, 1898\n",
       "874                                 London]\n",
       "1143                                 London\n",
       "Name: Place of Publication, dtype: object"
      ]
     },
     "execution_count": 53,
     "metadata": {},
     "output_type": "execute_result"
    }
   ],
   "source": [
    "df['Place of Publication'].head(10)"
   ]
  },
  {
   "cell_type": "code",
   "execution_count": 56,
   "metadata": {},
   "outputs": [
    {
     "data": {
      "text/plain": [
       "Place of Publication                                  Newcastle-upon-Tyne\n",
       "Date of Publication                                                1867.0\n",
       "Publisher                                                      T. Fordyce\n",
       "Title                   Local Records; or, Historical Register of rema...\n",
       "Author                      FORDYCE, T. - Printer, of Newcastle-upon-Tyne\n",
       "Flickr URL              http://www.flickr.com/photos/britishlibrary/ta...\n",
       "Name: 4157862, dtype: object"
      ]
     },
     "execution_count": 56,
     "metadata": {},
     "output_type": "execute_result"
    }
   ],
   "source": [
    "df.loc[4157862]"
   ]
  },
  {
   "cell_type": "code",
   "execution_count": 57,
   "metadata": {},
   "outputs": [
    {
     "data": {
      "text/plain": [
       "Place of Publication                                  Newcastle upon Tyne\n",
       "Date of Publication                                                1834.0\n",
       "Publisher                                                Mackenzie & Dent\n",
       "Title                   An historical, topographical and descriptive v...\n",
       "Author                                              Mackenzie, E. (Eneas)\n",
       "Flickr URL              http://www.flickr.com/photos/britishlibrary/ta...\n",
       "Name: 4159587, dtype: object"
      ]
     },
     "execution_count": 57,
     "metadata": {},
     "output_type": "execute_result"
    }
   ],
   "source": [
    "df.loc[4159587]"
   ]
  },
  {
   "cell_type": "code",
   "execution_count": 60,
   "metadata": {},
   "outputs": [
    {
     "data": {
      "text/plain": [
       "Identifier\n",
       "206    True\n",
       "216    True\n",
       "218    True\n",
       "472    True\n",
       "480    True\n",
       "Name: Place of Publication, dtype: bool"
      ]
     },
     "execution_count": 60,
     "metadata": {},
     "output_type": "execute_result"
    }
   ],
   "source": [
    "pub = df['Place of Publication']\n",
    "london = pub.str.contains('London')\n",
    "london[:5]"
   ]
  },
  {
   "cell_type": "code",
   "execution_count": 61,
   "metadata": {},
   "outputs": [],
   "source": [
    "oxford = pub.str.contains('Oxford')"
   ]
  },
  {
   "cell_type": "code",
   "execution_count": 62,
   "metadata": {},
   "outputs": [
    {
     "data": {
      "text/plain": [
       "Identifier\n",
       "206    London\n",
       "216    London\n",
       "218    London\n",
       "472    London\n",
       "480    London\n",
       "Name: Place of Publication, dtype: object"
      ]
     },
     "execution_count": 62,
     "metadata": {},
     "output_type": "execute_result"
    }
   ],
   "source": [
    "df['Place of Publication'] = np.where(london, 'London',\n",
    "                                        np.where(oxford, 'Oxford',\n",
    "                                        pub.str.replace('-','')))\n",
    "df['Place of Publication'].head()"
   ]
  },
  {
   "cell_type": "code",
   "execution_count": 63,
   "metadata": {},
   "outputs": [
    {
     "data": {
      "text/html": [
       "<div>\n",
       "<style scoped>\n",
       "    .dataframe tbody tr th:only-of-type {\n",
       "        vertical-align: middle;\n",
       "    }\n",
       "\n",
       "    .dataframe tbody tr th {\n",
       "        vertical-align: top;\n",
       "    }\n",
       "\n",
       "    .dataframe thead th {\n",
       "        text-align: right;\n",
       "    }\n",
       "</style>\n",
       "<table border=\"1\" class=\"dataframe\">\n",
       "  <thead>\n",
       "    <tr style=\"text-align: right;\">\n",
       "      <th></th>\n",
       "      <th>Place of Publication</th>\n",
       "      <th>Date of Publication</th>\n",
       "      <th>Publisher</th>\n",
       "      <th>Title</th>\n",
       "      <th>Author</th>\n",
       "      <th>Flickr URL</th>\n",
       "    </tr>\n",
       "    <tr>\n",
       "      <th>Identifier</th>\n",
       "      <th></th>\n",
       "      <th></th>\n",
       "      <th></th>\n",
       "      <th></th>\n",
       "      <th></th>\n",
       "      <th></th>\n",
       "    </tr>\n",
       "  </thead>\n",
       "  <tbody>\n",
       "    <tr>\n",
       "      <th>206</th>\n",
       "      <td>London</td>\n",
       "      <td>1879.0</td>\n",
       "      <td>S. Tinsley &amp; Co.</td>\n",
       "      <td>Walter Forbes. [A novel.] By A. A</td>\n",
       "      <td>A. A.</td>\n",
       "      <td>http://www.flickr.com/photos/britishlibrary/ta...</td>\n",
       "    </tr>\n",
       "    <tr>\n",
       "      <th>216</th>\n",
       "      <td>London</td>\n",
       "      <td>1868.0</td>\n",
       "      <td>Virtue &amp; Co.</td>\n",
       "      <td>All for Greed. [A novel. The dedication signed...</td>\n",
       "      <td>A., A. A.</td>\n",
       "      <td>http://www.flickr.com/photos/britishlibrary/ta...</td>\n",
       "    </tr>\n",
       "    <tr>\n",
       "      <th>218</th>\n",
       "      <td>London</td>\n",
       "      <td>1869.0</td>\n",
       "      <td>Bradbury, Evans &amp; Co.</td>\n",
       "      <td>Love the Avenger. By the author of “All for Gr...</td>\n",
       "      <td>A., A. A.</td>\n",
       "      <td>http://www.flickr.com/photos/britishlibrary/ta...</td>\n",
       "    </tr>\n",
       "    <tr>\n",
       "      <th>472</th>\n",
       "      <td>London</td>\n",
       "      <td>1851.0</td>\n",
       "      <td>James Darling</td>\n",
       "      <td>Welsh Sketches, chiefly ecclesiastical, to the...</td>\n",
       "      <td>A., E. S.</td>\n",
       "      <td>http://www.flickr.com/photos/britishlibrary/ta...</td>\n",
       "    </tr>\n",
       "    <tr>\n",
       "      <th>480</th>\n",
       "      <td>London</td>\n",
       "      <td>1857.0</td>\n",
       "      <td>Wertheim &amp; Macintosh</td>\n",
       "      <td>[The World in which I live, and my place in it...</td>\n",
       "      <td>A., E. S.</td>\n",
       "      <td>http://www.flickr.com/photos/britishlibrary/ta...</td>\n",
       "    </tr>\n",
       "  </tbody>\n",
       "</table>\n",
       "</div>"
      ],
      "text/plain": [
       "           Place of Publication  Date of Publication              Publisher  \\\n",
       "Identifier                                                                    \n",
       "206                      London               1879.0       S. Tinsley & Co.   \n",
       "216                      London               1868.0           Virtue & Co.   \n",
       "218                      London               1869.0  Bradbury, Evans & Co.   \n",
       "472                      London               1851.0          James Darling   \n",
       "480                      London               1857.0   Wertheim & Macintosh   \n",
       "\n",
       "                                                        Title     Author  \\\n",
       "Identifier                                                                 \n",
       "206                         Walter Forbes. [A novel.] By A. A      A. A.   \n",
       "216         All for Greed. [A novel. The dedication signed...  A., A. A.   \n",
       "218         Love the Avenger. By the author of “All for Gr...  A., A. A.   \n",
       "472         Welsh Sketches, chiefly ecclesiastical, to the...  A., E. S.   \n",
       "480         [The World in which I live, and my place in it...  A., E. S.   \n",
       "\n",
       "                                                   Flickr URL  \n",
       "Identifier                                                     \n",
       "206         http://www.flickr.com/photos/britishlibrary/ta...  \n",
       "216         http://www.flickr.com/photos/britishlibrary/ta...  \n",
       "218         http://www.flickr.com/photos/britishlibrary/ta...  \n",
       "472         http://www.flickr.com/photos/britishlibrary/ta...  \n",
       "480         http://www.flickr.com/photos/britishlibrary/ta...  "
      ]
     },
     "execution_count": 63,
     "metadata": {},
     "output_type": "execute_result"
    }
   ],
   "source": [
    "df.head()"
   ]
  },
  {
   "cell_type": "code",
   "execution_count": null,
   "metadata": {},
   "outputs": [],
   "source": []
  }
 ],
 "metadata": {
  "interpreter": {
   "hash": "96a802c66d4af08a06af96b6830e1555cd86e4f2c80db4ac5af8205862077d21"
  },
  "kernelspec": {
   "display_name": "Python 3.9.7 ('base')",
   "language": "python",
   "name": "python3"
  },
  "language_info": {
   "codemirror_mode": {
    "name": "ipython",
    "version": 3
   },
   "file_extension": ".py",
   "mimetype": "text/x-python",
   "name": "python",
   "nbconvert_exporter": "python",
   "pygments_lexer": "ipython3",
   "version": "3.9.7"
  },
  "orig_nbformat": 4
 },
 "nbformat": 4,
 "nbformat_minor": 2
}
