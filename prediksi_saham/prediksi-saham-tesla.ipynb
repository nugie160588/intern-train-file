{
 "cells": [
  {
   "cell_type": "markdown",
   "metadata": {},
   "source": [
    "# Pemodelan Regresi Pada Harga Saham Tesla"
   ]
  },
  {
   "cell_type": "markdown",
   "metadata": {},
   "source": [
    "#### Persiapan Data"
   ]
  },
  {
   "cell_type": "code",
   "execution_count": 12,
   "metadata": {},
   "outputs": [],
   "source": [
    "# import package yang diperlukan\n",
    "\n",
    "import pandas as pd\n",
    "import numpy as np\n",
    "import matplotlib.pyplot as plt\n",
    "import seaborn as sns\n",
    "from sklearn.linear_model import LinearRegression\n",
    "sns.set()"
   ]
  },
  {
   "cell_type": "code",
   "execution_count": 276,
   "metadata": {},
   "outputs": [
    {
     "data": {
      "text/html": [
       "<div>\n",
       "<style scoped>\n",
       "    .dataframe tbody tr th:only-of-type {\n",
       "        vertical-align: middle;\n",
       "    }\n",
       "\n",
       "    .dataframe tbody tr th {\n",
       "        vertical-align: top;\n",
       "    }\n",
       "\n",
       "    .dataframe thead th {\n",
       "        text-align: right;\n",
       "    }\n",
       "</style>\n",
       "<table border=\"1\" class=\"dataframe\">\n",
       "  <thead>\n",
       "    <tr style=\"text-align: right;\">\n",
       "      <th></th>\n",
       "      <th>Date</th>\n",
       "      <th>Open</th>\n",
       "      <th>High</th>\n",
       "      <th>Low</th>\n",
       "      <th>Close</th>\n",
       "      <th>Volume</th>\n",
       "      <th>Adj Close</th>\n",
       "    </tr>\n",
       "  </thead>\n",
       "  <tbody>\n",
       "    <tr>\n",
       "      <th>0</th>\n",
       "      <td>6/29/2010</td>\n",
       "      <td>19.000000</td>\n",
       "      <td>25.000000</td>\n",
       "      <td>17.540001</td>\n",
       "      <td>23.889999</td>\n",
       "      <td>18766300</td>\n",
       "      <td>23.889999</td>\n",
       "    </tr>\n",
       "    <tr>\n",
       "      <th>1</th>\n",
       "      <td>6/30/2010</td>\n",
       "      <td>25.790001</td>\n",
       "      <td>30.420000</td>\n",
       "      <td>23.299999</td>\n",
       "      <td>23.830000</td>\n",
       "      <td>17187100</td>\n",
       "      <td>23.830000</td>\n",
       "    </tr>\n",
       "    <tr>\n",
       "      <th>2</th>\n",
       "      <td>7/1/2010</td>\n",
       "      <td>25.000000</td>\n",
       "      <td>25.920000</td>\n",
       "      <td>20.270000</td>\n",
       "      <td>21.959999</td>\n",
       "      <td>8218800</td>\n",
       "      <td>21.959999</td>\n",
       "    </tr>\n",
       "    <tr>\n",
       "      <th>3</th>\n",
       "      <td>7/2/2010</td>\n",
       "      <td>23.000000</td>\n",
       "      <td>23.100000</td>\n",
       "      <td>18.709999</td>\n",
       "      <td>19.200001</td>\n",
       "      <td>5139800</td>\n",
       "      <td>19.200001</td>\n",
       "    </tr>\n",
       "    <tr>\n",
       "      <th>4</th>\n",
       "      <td>7/6/2010</td>\n",
       "      <td>20.000000</td>\n",
       "      <td>20.000000</td>\n",
       "      <td>15.830000</td>\n",
       "      <td>16.110001</td>\n",
       "      <td>6866900</td>\n",
       "      <td>16.110001</td>\n",
       "    </tr>\n",
       "    <tr>\n",
       "      <th>...</th>\n",
       "      <td>...</td>\n",
       "      <td>...</td>\n",
       "      <td>...</td>\n",
       "      <td>...</td>\n",
       "      <td>...</td>\n",
       "      <td>...</td>\n",
       "      <td>...</td>\n",
       "    </tr>\n",
       "    <tr>\n",
       "      <th>1687</th>\n",
       "      <td>3/13/2017</td>\n",
       "      <td>244.820007</td>\n",
       "      <td>246.850006</td>\n",
       "      <td>242.779999</td>\n",
       "      <td>246.169998</td>\n",
       "      <td>3010700</td>\n",
       "      <td>246.169998</td>\n",
       "    </tr>\n",
       "    <tr>\n",
       "      <th>1688</th>\n",
       "      <td>3/14/2017</td>\n",
       "      <td>246.110001</td>\n",
       "      <td>258.119995</td>\n",
       "      <td>246.020004</td>\n",
       "      <td>258.000000</td>\n",
       "      <td>7575500</td>\n",
       "      <td>258.000000</td>\n",
       "    </tr>\n",
       "    <tr>\n",
       "      <th>1689</th>\n",
       "      <td>3/15/2017</td>\n",
       "      <td>257.000000</td>\n",
       "      <td>261.000000</td>\n",
       "      <td>254.270004</td>\n",
       "      <td>255.729996</td>\n",
       "      <td>4816600</td>\n",
       "      <td>255.729996</td>\n",
       "    </tr>\n",
       "    <tr>\n",
       "      <th>1690</th>\n",
       "      <td>3/16/2017</td>\n",
       "      <td>262.399994</td>\n",
       "      <td>265.750000</td>\n",
       "      <td>259.059998</td>\n",
       "      <td>262.049988</td>\n",
       "      <td>7100400</td>\n",
       "      <td>262.049988</td>\n",
       "    </tr>\n",
       "    <tr>\n",
       "      <th>1691</th>\n",
       "      <td>3/17/2017</td>\n",
       "      <td>264.000000</td>\n",
       "      <td>265.329987</td>\n",
       "      <td>261.200012</td>\n",
       "      <td>261.500000</td>\n",
       "      <td>6475900</td>\n",
       "      <td>261.500000</td>\n",
       "    </tr>\n",
       "  </tbody>\n",
       "</table>\n",
       "<p>1692 rows × 7 columns</p>\n",
       "</div>"
      ],
      "text/plain": [
       "           Date        Open        High         Low       Close    Volume  \\\n",
       "0     6/29/2010   19.000000   25.000000   17.540001   23.889999  18766300   \n",
       "1     6/30/2010   25.790001   30.420000   23.299999   23.830000  17187100   \n",
       "2      7/1/2010   25.000000   25.920000   20.270000   21.959999   8218800   \n",
       "3      7/2/2010   23.000000   23.100000   18.709999   19.200001   5139800   \n",
       "4      7/6/2010   20.000000   20.000000   15.830000   16.110001   6866900   \n",
       "...         ...         ...         ...         ...         ...       ...   \n",
       "1687  3/13/2017  244.820007  246.850006  242.779999  246.169998   3010700   \n",
       "1688  3/14/2017  246.110001  258.119995  246.020004  258.000000   7575500   \n",
       "1689  3/15/2017  257.000000  261.000000  254.270004  255.729996   4816600   \n",
       "1690  3/16/2017  262.399994  265.750000  259.059998  262.049988   7100400   \n",
       "1691  3/17/2017  264.000000  265.329987  261.200012  261.500000   6475900   \n",
       "\n",
       "       Adj Close  \n",
       "0      23.889999  \n",
       "1      23.830000  \n",
       "2      21.959999  \n",
       "3      19.200001  \n",
       "4      16.110001  \n",
       "...          ...  \n",
       "1687  246.169998  \n",
       "1688  258.000000  \n",
       "1689  255.729996  \n",
       "1690  262.049988  \n",
       "1691  261.500000  \n",
       "\n",
       "[1692 rows x 7 columns]"
      ]
     },
     "execution_count": 276,
     "metadata": {},
     "output_type": "execute_result"
    }
   ],
   "source": [
    "# baca dataset saham tesla\n",
    "\n",
    "df = pd.read_csv('tesla-stock.csv')\n",
    "df"
   ]
  },
  {
   "cell_type": "code",
   "execution_count": 13,
   "metadata": {},
   "outputs": [
    {
     "data": {
      "text/html": [
       "<div>\n",
       "<style scoped>\n",
       "    .dataframe tbody tr th:only-of-type {\n",
       "        vertical-align: middle;\n",
       "    }\n",
       "\n",
       "    .dataframe tbody tr th {\n",
       "        vertical-align: top;\n",
       "    }\n",
       "\n",
       "    .dataframe thead th {\n",
       "        text-align: right;\n",
       "    }\n",
       "</style>\n",
       "<table border=\"1\" class=\"dataframe\">\n",
       "  <thead>\n",
       "    <tr style=\"text-align: right;\">\n",
       "      <th></th>\n",
       "      <th>Open</th>\n",
       "      <th>High</th>\n",
       "      <th>Low</th>\n",
       "      <th>Close</th>\n",
       "      <th>Volume</th>\n",
       "      <th>Adj Close</th>\n",
       "    </tr>\n",
       "    <tr>\n",
       "      <th>Date</th>\n",
       "      <th></th>\n",
       "      <th></th>\n",
       "      <th></th>\n",
       "      <th></th>\n",
       "      <th></th>\n",
       "      <th></th>\n",
       "    </tr>\n",
       "  </thead>\n",
       "  <tbody>\n",
       "    <tr>\n",
       "      <th>6/29/2010</th>\n",
       "      <td>19.000000</td>\n",
       "      <td>25.00</td>\n",
       "      <td>17.540001</td>\n",
       "      <td>23.889999</td>\n",
       "      <td>18766300</td>\n",
       "      <td>23.889999</td>\n",
       "    </tr>\n",
       "    <tr>\n",
       "      <th>6/30/2010</th>\n",
       "      <td>25.790001</td>\n",
       "      <td>30.42</td>\n",
       "      <td>23.299999</td>\n",
       "      <td>23.830000</td>\n",
       "      <td>17187100</td>\n",
       "      <td>23.830000</td>\n",
       "    </tr>\n",
       "    <tr>\n",
       "      <th>7/1/2010</th>\n",
       "      <td>25.000000</td>\n",
       "      <td>25.92</td>\n",
       "      <td>20.270000</td>\n",
       "      <td>21.959999</td>\n",
       "      <td>8218800</td>\n",
       "      <td>21.959999</td>\n",
       "    </tr>\n",
       "    <tr>\n",
       "      <th>7/2/2010</th>\n",
       "      <td>23.000000</td>\n",
       "      <td>23.10</td>\n",
       "      <td>18.709999</td>\n",
       "      <td>19.200001</td>\n",
       "      <td>5139800</td>\n",
       "      <td>19.200001</td>\n",
       "    </tr>\n",
       "    <tr>\n",
       "      <th>7/6/2010</th>\n",
       "      <td>20.000000</td>\n",
       "      <td>20.00</td>\n",
       "      <td>15.830000</td>\n",
       "      <td>16.110001</td>\n",
       "      <td>6866900</td>\n",
       "      <td>16.110001</td>\n",
       "    </tr>\n",
       "  </tbody>\n",
       "</table>\n",
       "</div>"
      ],
      "text/plain": [
       "                Open   High        Low      Close    Volume  Adj Close\n",
       "Date                                                                  \n",
       "6/29/2010  19.000000  25.00  17.540001  23.889999  18766300  23.889999\n",
       "6/30/2010  25.790001  30.42  23.299999  23.830000  17187100  23.830000\n",
       "7/1/2010   25.000000  25.92  20.270000  21.959999   8218800  21.959999\n",
       "7/2/2010   23.000000  23.10  18.709999  19.200001   5139800  19.200001\n",
       "7/6/2010   20.000000  20.00  15.830000  16.110001   6866900  16.110001"
      ]
     },
     "execution_count": 13,
     "metadata": {},
     "output_type": "execute_result"
    }
   ],
   "source": [
    "# set kolom date menjadi index\n",
    "\n",
    "df.set_index('Date', inplace=True)\n",
    "df.head()"
   ]
  },
  {
   "cell_type": "code",
   "execution_count": 14,
   "metadata": {},
   "outputs": [
    {
     "name": "stdout",
     "output_type": "stream",
     "text": [
      "<class 'pandas.core.frame.DataFrame'>\n",
      "Index: 1692 entries, 6/29/2010 to 3/17/2017\n",
      "Data columns (total 6 columns):\n",
      " #   Column     Non-Null Count  Dtype  \n",
      "---  ------     --------------  -----  \n",
      " 0   Open       1692 non-null   float64\n",
      " 1   High       1692 non-null   float64\n",
      " 2   Low        1692 non-null   float64\n",
      " 3   Close      1692 non-null   float64\n",
      " 4   Volume     1692 non-null   int64  \n",
      " 5   Adj Close  1692 non-null   float64\n",
      "dtypes: float64(5), int64(1)\n",
      "memory usage: 92.5+ KB\n"
     ]
    }
   ],
   "source": [
    "# melihat informasi data\n",
    "\n",
    "df.info()"
   ]
  },
  {
   "cell_type": "code",
   "execution_count": 8,
   "metadata": {},
   "outputs": [
    {
     "data": {
      "text/html": [
       "<div>\n",
       "<style scoped>\n",
       "    .dataframe tbody tr th:only-of-type {\n",
       "        vertical-align: middle;\n",
       "    }\n",
       "\n",
       "    .dataframe tbody tr th {\n",
       "        vertical-align: top;\n",
       "    }\n",
       "\n",
       "    .dataframe thead th {\n",
       "        text-align: right;\n",
       "    }\n",
       "</style>\n",
       "<table border=\"1\" class=\"dataframe\">\n",
       "  <thead>\n",
       "    <tr style=\"text-align: right;\">\n",
       "      <th></th>\n",
       "      <th>Open</th>\n",
       "      <th>High</th>\n",
       "      <th>Low</th>\n",
       "      <th>Close</th>\n",
       "      <th>Volume</th>\n",
       "      <th>Adj Close</th>\n",
       "    </tr>\n",
       "  </thead>\n",
       "  <tbody>\n",
       "    <tr>\n",
       "      <th>count</th>\n",
       "      <td>1692.000000</td>\n",
       "      <td>1692.000000</td>\n",
       "      <td>1692.000000</td>\n",
       "      <td>1692.000000</td>\n",
       "      <td>1.692000e+03</td>\n",
       "      <td>1692.000000</td>\n",
       "    </tr>\n",
       "    <tr>\n",
       "      <th>mean</th>\n",
       "      <td>132.441572</td>\n",
       "      <td>134.769698</td>\n",
       "      <td>129.996223</td>\n",
       "      <td>132.428658</td>\n",
       "      <td>4.270741e+06</td>\n",
       "      <td>132.428658</td>\n",
       "    </tr>\n",
       "    <tr>\n",
       "      <th>std</th>\n",
       "      <td>94.309923</td>\n",
       "      <td>95.694914</td>\n",
       "      <td>92.855227</td>\n",
       "      <td>94.313187</td>\n",
       "      <td>4.295971e+06</td>\n",
       "      <td>94.313187</td>\n",
       "    </tr>\n",
       "    <tr>\n",
       "      <th>min</th>\n",
       "      <td>16.139999</td>\n",
       "      <td>16.629999</td>\n",
       "      <td>14.980000</td>\n",
       "      <td>15.800000</td>\n",
       "      <td>1.185000e+05</td>\n",
       "      <td>15.800000</td>\n",
       "    </tr>\n",
       "    <tr>\n",
       "      <th>25%</th>\n",
       "      <td>30.000000</td>\n",
       "      <td>30.650000</td>\n",
       "      <td>29.215000</td>\n",
       "      <td>29.884999</td>\n",
       "      <td>1.194350e+06</td>\n",
       "      <td>29.884999</td>\n",
       "    </tr>\n",
       "    <tr>\n",
       "      <th>50%</th>\n",
       "      <td>156.334999</td>\n",
       "      <td>162.370002</td>\n",
       "      <td>153.150002</td>\n",
       "      <td>158.160004</td>\n",
       "      <td>3.180700e+06</td>\n",
       "      <td>158.160004</td>\n",
       "    </tr>\n",
       "    <tr>\n",
       "      <th>75%</th>\n",
       "      <td>220.557495</td>\n",
       "      <td>224.099999</td>\n",
       "      <td>217.119999</td>\n",
       "      <td>220.022503</td>\n",
       "      <td>5.662100e+06</td>\n",
       "      <td>220.022503</td>\n",
       "    </tr>\n",
       "    <tr>\n",
       "      <th>max</th>\n",
       "      <td>287.670013</td>\n",
       "      <td>291.420013</td>\n",
       "      <td>280.399994</td>\n",
       "      <td>286.040009</td>\n",
       "      <td>3.716390e+07</td>\n",
       "      <td>286.040009</td>\n",
       "    </tr>\n",
       "  </tbody>\n",
       "</table>\n",
       "</div>"
      ],
      "text/plain": [
       "              Open         High          Low        Close        Volume  \\\n",
       "count  1692.000000  1692.000000  1692.000000  1692.000000  1.692000e+03   \n",
       "mean    132.441572   134.769698   129.996223   132.428658  4.270741e+06   \n",
       "std      94.309923    95.694914    92.855227    94.313187  4.295971e+06   \n",
       "min      16.139999    16.629999    14.980000    15.800000  1.185000e+05   \n",
       "25%      30.000000    30.650000    29.215000    29.884999  1.194350e+06   \n",
       "50%     156.334999   162.370002   153.150002   158.160004  3.180700e+06   \n",
       "75%     220.557495   224.099999   217.119999   220.022503  5.662100e+06   \n",
       "max     287.670013   291.420013   280.399994   286.040009  3.716390e+07   \n",
       "\n",
       "         Adj Close  \n",
       "count  1692.000000  \n",
       "mean    132.428658  \n",
       "std      94.313187  \n",
       "min      15.800000  \n",
       "25%      29.884999  \n",
       "50%     158.160004  \n",
       "75%     220.022503  \n",
       "max     286.040009  "
      ]
     },
     "execution_count": 8,
     "metadata": {},
     "output_type": "execute_result"
    }
   ],
   "source": [
    "# melihat statistik deskriptif pada data\n",
    "\n",
    "df.describe()"
   ]
  },
  {
   "cell_type": "code",
   "execution_count": 15,
   "metadata": {},
   "outputs": [
    {
     "data": {
      "text/plain": [
       "Open         0\n",
       "High         0\n",
       "Low          0\n",
       "Close        0\n",
       "Volume       0\n",
       "Adj Close    0\n",
       "dtype: int64"
      ]
     },
     "execution_count": 15,
     "metadata": {},
     "output_type": "execute_result"
    }
   ],
   "source": [
    "# cek nilai kosong\n",
    "\n",
    "df.isnull().sum()"
   ]
  },
  {
   "cell_type": "markdown",
   "metadata": {},
   "source": [
    "#### Eksplorasi Data"
   ]
  },
  {
   "cell_type": "code",
   "execution_count": 98,
   "metadata": {},
   "outputs": [
    {
     "data": {
      "image/png": "[encoded data removed]",
      "text/plain": [
       "<Figure size 432x288 with 6 Axes>"
      ]
     },
     "metadata": {},
     "output_type": "display_data"
    }
   ],
   "source": [
    "viz = df[['Open','Close','Low','High','Volume']]\n",
    "viz.hist()\n",
    "plt.show()"
   ]
  },
  {
   "cell_type": "code",
   "execution_count": 18,
   "metadata": {},
   "outputs": [
    {
     "name": "stderr",
     "output_type": "stream",
     "text": [
      "/Users/nugie/opt/anaconda3/lib/python3.9/site-packages/seaborn/_decorators.py:36: FutureWarning: Pass the following variable as a keyword arg: x. From version 0.12, the only valid positional argument will be `data`, and passing other arguments without an explicit keyword will result in an error or misinterpretation.\n",
      "  warnings.warn(\n"
     ]
    },
    {
     "data": {
      "text/plain": [
       "<AxesSubplot:xlabel='Open'>"
      ]
     },
     "execution_count": 18,
     "metadata": {},
     "output_type": "execute_result"
    },
    {
     "data": {
      "image/png": "[encoded data removed]",
      "text/plain": [
       "<Figure size 432x288 with 1 Axes>"
      ]
     },
     "metadata": {},
     "output_type": "display_data"
    }
   ],
   "source": [
    "sns.boxplot(df['Open'])"
   ]
  },
  {
   "cell_type": "code",
   "execution_count": 19,
   "metadata": {},
   "outputs": [
    {
     "name": "stderr",
     "output_type": "stream",
     "text": [
      "/Users/nugie/opt/anaconda3/lib/python3.9/site-packages/seaborn/_decorators.py:36: FutureWarning: Pass the following variable as a keyword arg: x. From version 0.12, the only valid positional argument will be `data`, and passing other arguments without an explicit keyword will result in an error or misinterpretation.\n",
      "  warnings.warn(\n"
     ]
    },
    {
     "data": {
      "text/plain": [
       "<AxesSubplot:xlabel='Close'>"
      ]
     },
     "execution_count": 19,
     "metadata": {},
     "output_type": "execute_result"
    },
    {
     "data": {
      "image/png": "[encoded data removed]",
      "text/plain": [
       "<Figure size 432x288 with 1 Axes>"
      ]
     },
     "metadata": {},
     "output_type": "display_data"
    }
   ],
   "source": [
    "sns.boxplot(df['Close'])"
   ]
  },
  {
   "cell_type": "code",
   "execution_count": 20,
   "metadata": {},
   "outputs": [
    {
     "name": "stderr",
     "output_type": "stream",
     "text": [
      "/Users/nugie/opt/anaconda3/lib/python3.9/site-packages/seaborn/_decorators.py:36: FutureWarning: Pass the following variable as a keyword arg: x. From version 0.12, the only valid positional argument will be `data`, and passing other arguments without an explicit keyword will result in an error or misinterpretation.\n",
      "  warnings.warn(\n"
     ]
    },
    {
     "data": {
      "text/plain": [
       "<AxesSubplot:xlabel='Low'>"
      ]
     },
     "execution_count": 20,
     "metadata": {},
     "output_type": "execute_result"
    },
    {
     "data": {
      "image/png": "[encoded data removed]",
      "text/plain": [
       "<Figure size 432x288 with 1 Axes>"
      ]
     },
     "metadata": {},
     "output_type": "display_data"
    }
   ],
   "source": [
    "sns.boxplot(df['Low'])"
   ]
  },
  {
   "cell_type": "code",
   "execution_count": 22,
   "metadata": {},
   "outputs": [
    {
     "data": {
      "text/plain": [
       "<AxesSubplot:xlabel='High'>"
      ]
     },
     "execution_count": 22,
     "metadata": {},
     "output_type": "execute_result"
    },
    {
     "data": {
      "image/png": "[encoded data removed]",
      "text/plain": [
       "<Figure size 432x288 with 1 Axes>"
      ]
     },
     "metadata": {},
     "output_type": "display_data"
    }
   ],
   "source": [
    "sns.boxplot(df['High'])"
   ]
  },
  {
   "cell_type": "code",
   "execution_count": 24,
   "metadata": {},
   "outputs": [
    {
     "name": "stderr",
     "output_type": "stream",
     "text": [
      "/Users/nugie/opt/anaconda3/lib/python3.9/site-packages/seaborn/_decorators.py:36: FutureWarning: Pass the following variable as a keyword arg: x. From version 0.12, the only valid positional argument will be `data`, and passing other arguments without an explicit keyword will result in an error or misinterpretation.\n",
      "  warnings.warn(\n"
     ]
    },
    {
     "data": {
      "text/plain": [
       "<AxesSubplot:xlabel='Volume'>"
      ]
     },
     "execution_count": 24,
     "metadata": {},
     "output_type": "execute_result"
    },
    {
     "data": {
      "image/png": "[encoded data removed]",
      "text/plain": [
       "<Figure size 432x288 with 1 Axes>"
      ]
     },
     "metadata": {},
     "output_type": "display_data"
    }
   ],
   "source": [
    "sns.boxplot(df['Volume'])"
   ]
  },
  {
   "cell_type": "markdown",
   "metadata": {},
   "source": [
    "#### Menghilangkan outliers"
   ]
  },
  {
   "cell_type": "code",
   "execution_count": 178,
   "metadata": {},
   "outputs": [],
   "source": [
    "r = df['Volume'].quantile(0.90)\n",
    "df_1 = df[df['Volume'] < r]"
   ]
  },
  {
   "cell_type": "code",
   "execution_count": 179,
   "metadata": {},
   "outputs": [],
   "source": [
    "r = df_1['Open'].quantile(0.90)\n",
    "df_2 = df_1[df_1['Open'] < r]"
   ]
  },
  {
   "cell_type": "code",
   "execution_count": 180,
   "metadata": {},
   "outputs": [],
   "source": [
    "r = df_2['Close'].quantile(0.90)\n",
    "df_3 = df_2[df_2['Close'] < r]"
   ]
  },
  {
   "cell_type": "code",
   "execution_count": 181,
   "metadata": {},
   "outputs": [],
   "source": [
    "r = df_3['High'].quantile(0.90)\n",
    "df_4 = df_3[df_3['High'] < r]"
   ]
  },
  {
   "cell_type": "code",
   "execution_count": 182,
   "metadata": {},
   "outputs": [],
   "source": [
    "r = df_4['Low'].quantile(0.90)\n",
    "df_5 = df_4[df_4['Low'] < r]"
   ]
  },
  {
   "cell_type": "code",
   "execution_count": 184,
   "metadata": {},
   "outputs": [],
   "source": [
    "df_no_outliers = df_5.reset_index(drop=True)"
   ]
  },
  {
   "cell_type": "code",
   "execution_count": 248,
   "metadata": {},
   "outputs": [
    {
     "name": "stdout",
     "output_type": "stream",
     "text": [
      "<class 'pandas.core.frame.DataFrame'>\n",
      "RangeIndex: 997 entries, 0 to 996\n",
      "Data columns (total 6 columns):\n",
      " #   Column     Non-Null Count  Dtype  \n",
      "---  ------     --------------  -----  \n",
      " 0   Open       997 non-null    float64\n",
      " 1   High       997 non-null    float64\n",
      " 2   Low        997 non-null    float64\n",
      " 3   Close      997 non-null    float64\n",
      " 4   Volume     997 non-null    int64  \n",
      " 5   Adj Close  997 non-null    float64\n",
      "dtypes: float64(5), int64(1)\n",
      "memory usage: 46.9 KB\n"
     ]
    }
   ],
   "source": [
    "# cek dataframe setelah menghilangkan outliers\n",
    "\n",
    "df_no_outliers.info()"
   ]
  },
  {
   "cell_type": "markdown",
   "metadata": {},
   "source": [
    "#### Pre-processing"
   ]
  },
  {
   "cell_type": "code",
   "execution_count": 249,
   "metadata": {},
   "outputs": [],
   "source": [
    "from sklearn.preprocessing import StandardScaler"
   ]
  },
  {
   "cell_type": "code",
   "execution_count": 250,
   "metadata": {},
   "outputs": [],
   "source": [
    "# melakukan data scaling\n",
    "\n",
    "scaled = StandardScaler()\n",
    "scaled.fit(df_no_outliers)\n",
    "scaled_data = scaled.transform(df_no_outliers)"
   ]
  },
  {
   "cell_type": "code",
   "execution_count": 251,
   "metadata": {},
   "outputs": [
    {
     "data": {
      "text/html": [
       "<div>\n",
       "<style scoped>\n",
       "    .dataframe tbody tr th:only-of-type {\n",
       "        vertical-align: middle;\n",
       "    }\n",
       "\n",
       "    .dataframe tbody tr th {\n",
       "        vertical-align: top;\n",
       "    }\n",
       "\n",
       "    .dataframe thead th {\n",
       "        text-align: right;\n",
       "    }\n",
       "</style>\n",
       "<table border=\"1\" class=\"dataframe\">\n",
       "  <thead>\n",
       "    <tr style=\"text-align: right;\">\n",
       "      <th></th>\n",
       "      <th>Open</th>\n",
       "      <th>High</th>\n",
       "      <th>Low</th>\n",
       "      <th>Close</th>\n",
       "      <th>Volume</th>\n",
       "      <th>Adj Close</th>\n",
       "    </tr>\n",
       "  </thead>\n",
       "  <tbody>\n",
       "    <tr>\n",
       "      <th>0</th>\n",
       "      <td>-0.674077</td>\n",
       "      <td>-0.668862</td>\n",
       "      <td>-0.734202</td>\n",
       "      <td>-0.716968</td>\n",
       "      <td>2.473789</td>\n",
       "      <td>-0.716968</td>\n",
       "    </tr>\n",
       "    <tr>\n",
       "      <th>1</th>\n",
       "      <td>-0.702666</td>\n",
       "      <td>-0.708517</td>\n",
       "      <td>-0.756901</td>\n",
       "      <td>-0.756383</td>\n",
       "      <td>1.132784</td>\n",
       "      <td>-0.756383</td>\n",
       "    </tr>\n",
       "    <tr>\n",
       "      <th>2</th>\n",
       "      <td>-0.745551</td>\n",
       "      <td>-0.752110</td>\n",
       "      <td>-0.798806</td>\n",
       "      <td>-0.800512</td>\n",
       "      <td>1.884992</td>\n",
       "      <td>-0.800512</td>\n",
       "    </tr>\n",
       "    <tr>\n",
       "      <th>3</th>\n",
       "      <td>-0.797012</td>\n",
       "      <td>-0.799500</td>\n",
       "      <td>-0.811174</td>\n",
       "      <td>-0.804939</td>\n",
       "      <td>1.908859</td>\n",
       "      <td>-0.804939</td>\n",
       "    </tr>\n",
       "    <tr>\n",
       "      <th>4</th>\n",
       "      <td>-0.800729</td>\n",
       "      <td>-0.786985</td>\n",
       "      <td>-0.802589</td>\n",
       "      <td>-0.781232</td>\n",
       "      <td>2.252799</td>\n",
       "      <td>-0.781232</td>\n",
       "    </tr>\n",
       "    <tr>\n",
       "      <th>...</th>\n",
       "      <td>...</td>\n",
       "      <td>...</td>\n",
       "      <td>...</td>\n",
       "      <td>...</td>\n",
       "      <td>...</td>\n",
       "      <td>...</td>\n",
       "    </tr>\n",
       "    <tr>\n",
       "      <th>992</th>\n",
       "      <td>1.809502</td>\n",
       "      <td>1.821282</td>\n",
       "      <td>1.833795</td>\n",
       "      <td>1.806923</td>\n",
       "      <td>0.702085</td>\n",
       "      <td>1.806923</td>\n",
       "    </tr>\n",
       "    <tr>\n",
       "      <th>993</th>\n",
       "      <td>1.804785</td>\n",
       "      <td>1.789501</td>\n",
       "      <td>1.842962</td>\n",
       "      <td>1.791071</td>\n",
       "      <td>0.296474</td>\n",
       "      <td>1.791071</td>\n",
       "    </tr>\n",
       "    <tr>\n",
       "      <th>994</th>\n",
       "      <td>1.800068</td>\n",
       "      <td>1.815516</td>\n",
       "      <td>1.846018</td>\n",
       "      <td>1.861191</td>\n",
       "      <td>0.547907</td>\n",
       "      <td>1.861191</td>\n",
       "    </tr>\n",
       "    <tr>\n",
       "      <th>995</th>\n",
       "      <td>1.863108</td>\n",
       "      <td>1.841672</td>\n",
       "      <td>1.878610</td>\n",
       "      <td>1.864619</td>\n",
       "      <td>0.413414</td>\n",
       "      <td>1.864619</td>\n",
       "    </tr>\n",
       "    <tr>\n",
       "      <th>996</th>\n",
       "      <td>1.871113</td>\n",
       "      <td>1.905655</td>\n",
       "      <td>1.917314</td>\n",
       "      <td>1.951162</td>\n",
       "      <td>0.936489</td>\n",
       "      <td>1.951162</td>\n",
       "    </tr>\n",
       "  </tbody>\n",
       "</table>\n",
       "<p>997 rows × 6 columns</p>\n",
       "</div>"
      ],
      "text/plain": [
       "         Open      High       Low     Close    Volume  Adj Close\n",
       "0   -0.674077 -0.668862 -0.734202 -0.716968  2.473789  -0.716968\n",
       "1   -0.702666 -0.708517 -0.756901 -0.756383  1.132784  -0.756383\n",
       "2   -0.745551 -0.752110 -0.798806 -0.800512  1.884992  -0.800512\n",
       "3   -0.797012 -0.799500 -0.811174 -0.804939  1.908859  -0.804939\n",
       "4   -0.800729 -0.786985 -0.802589 -0.781232  2.252799  -0.781232\n",
       "..        ...       ...       ...       ...       ...        ...\n",
       "992  1.809502  1.821282  1.833795  1.806923  0.702085   1.806923\n",
       "993  1.804785  1.789501  1.842962  1.791071  0.296474   1.791071\n",
       "994  1.800068  1.815516  1.846018  1.861191  0.547907   1.861191\n",
       "995  1.863108  1.841672  1.878610  1.864619  0.413414   1.864619\n",
       "996  1.871113  1.905655  1.917314  1.951162  0.936489   1.951162\n",
       "\n",
       "[997 rows x 6 columns]"
      ]
     },
     "execution_count": 251,
     "metadata": {},
     "output_type": "execute_result"
    }
   ],
   "source": [
    "scaled_data = pd.DataFrame(scaled_data,columns=df_no_outliers.columns.values)\n",
    "scaled_data"
   ]
  },
  {
   "cell_type": "code",
   "execution_count": 252,
   "metadata": {},
   "outputs": [],
   "source": [
    "from sklearn.model_selection import train_test_split"
   ]
  },
  {
   "cell_type": "code",
   "execution_count": 253,
   "metadata": {},
   "outputs": [],
   "source": [
    "x = scaled_data[['Open','High','Low','Volume']]\n",
    "y = scaled_data['Close']"
   ]
  },
  {
   "cell_type": "code",
   "execution_count": 254,
   "metadata": {},
   "outputs": [],
   "source": [
    "# Split data 80% training - 20% test\n",
    "\n",
    "x_train, x_test, y_train, y_test = train_test_split(x,y, test_size= 0.2)"
   ]
  },
  {
   "cell_type": "code",
   "execution_count": 255,
   "metadata": {},
   "outputs": [
    {
     "data": {
      "text/plain": [
       "((797, 4), (797,))"
      ]
     },
     "execution_count": 255,
     "metadata": {},
     "output_type": "execute_result"
    }
   ],
   "source": [
    "# melihat jumlah data training\n",
    "\n",
    "x_train.shape , y_train.shape"
   ]
  },
  {
   "cell_type": "code",
   "execution_count": 256,
   "metadata": {},
   "outputs": [
    {
     "data": {
      "text/plain": [
       "((200, 4), (200,))"
      ]
     },
     "execution_count": 256,
     "metadata": {},
     "output_type": "execute_result"
    }
   ],
   "source": [
    "# melihat jumlah data test\n",
    "\n",
    "x_test.shape , y_test.shape"
   ]
  },
  {
   "cell_type": "markdown",
   "metadata": {},
   "source": [
    "#### Pemodelan"
   ]
  },
  {
   "cell_type": "code",
   "execution_count": 257,
   "metadata": {},
   "outputs": [],
   "source": [
    "from sklearn.linear_model import LinearRegression"
   ]
  },
  {
   "cell_type": "code",
   "execution_count": 258,
   "metadata": {},
   "outputs": [
    {
     "data": {
      "text/plain": [
       "LinearRegression()"
      ]
     },
     "execution_count": 258,
     "metadata": {},
     "output_type": "execute_result"
    }
   ],
   "source": [
    "reg = LinearRegression()\n",
    "reg.fit(x_train,y_train)"
   ]
  },
  {
   "cell_type": "code",
   "execution_count": 259,
   "metadata": {},
   "outputs": [
    {
     "data": {
      "text/plain": [
       "array([-0.54899121,  0.8856008 ,  0.66411096, -0.00156425])"
      ]
     },
     "execution_count": 259,
     "metadata": {},
     "output_type": "execute_result"
    }
   ],
   "source": [
    "reg.coef_"
   ]
  },
  {
   "cell_type": "code",
   "execution_count": 260,
   "metadata": {},
   "outputs": [
    {
     "data": {
      "text/plain": [
       "-7.729053237327636e-05"
      ]
     },
     "execution_count": 260,
     "metadata": {},
     "output_type": "execute_result"
    }
   ],
   "source": [
    "reg.intercept_"
   ]
  },
  {
   "cell_type": "code",
   "execution_count": 261,
   "metadata": {},
   "outputs": [],
   "source": [
    "train_predict = reg.predict(x_train)"
   ]
  },
  {
   "cell_type": "code",
   "execution_count": 262,
   "metadata": {},
   "outputs": [
    {
     "data": {
      "text/plain": [
       "array([ 1.80385744, -0.66213035,  1.92483289, -0.69663688,  0.87567042,\n",
       "       -0.71476436,  1.75520294, -0.68361984,  1.81484127, -0.55767189,\n",
       "       -0.60478884, -0.73011484, -0.63505526,  1.92401412, -0.60511007,\n",
       "       -0.69072482, -0.62320221, -0.43434579, -0.49052189, -0.49111618,\n",
       "       -0.61699008, -0.55124251, -0.57574561, -0.60772654, -0.63485621,\n",
       "        1.51222546, -0.66105957, -0.57165477, -0.63523656, -0.6063504 ,\n",
       "       -0.73075138, -0.73592378, -0.3281987 , -0.49751786, -0.63937066,\n",
       "       -0.55479783, -0.59105691, -0.54496585, -0.67521135, -0.71365396,\n",
       "        1.46719579, -0.60317707,  1.91197488,  1.77932864, -0.73667343,\n",
       "       -0.71327318, -0.73389755, -0.65640895,  1.43192184, -0.548147  ,\n",
       "       -0.54885424, -0.61042238, -0.64683971,  1.80016204, -0.59788842,\n",
       "       -0.58346248, -0.62313435, -0.59050533, -0.44924199, -0.61547819,\n",
       "        1.84591499,  1.66950963, -0.63488761, -0.65770539, -0.55802104,\n",
       "       -0.70783026,  1.10453937, -0.614204  , -0.69340256, -0.6348054 ,\n",
       "       -0.69118788,  1.75387797,  1.71099689,  1.58536105,  1.86843497,\n",
       "        1.78099004,  1.60191625, -0.62149767,  1.14856049, -0.64923963,\n",
       "        1.86335159, -0.6243969 , -0.63140694,  1.90309546, -0.63164424,\n",
       "        1.64556068, -0.47855348, -0.68088902, -0.5798424 ,  1.83619572,\n",
       "       -0.73941286, -0.67608796, -0.48602201, -0.63791608, -0.46870379,\n",
       "       -0.65366822, -0.73306451, -0.63281074, -0.48305772, -0.67967432,\n",
       "        1.79749715, -0.68889435,  1.58516688, -0.72085216, -0.6140592 ,\n",
       "       -0.67369512,  1.64850812, -0.56482471, -0.53606516, -0.5317492 ,\n",
       "       -0.7733809 , -0.62392739, -0.67984507, -0.62422973, -0.61567988,\n",
       "       -0.48844461,  1.86496823, -0.62289553,  1.87416729,  1.08396845,\n",
       "       -0.24815885,  1.84351397, -0.59469285,  1.89495724, -0.62120764,\n",
       "       -0.57111107,  1.5005895 , -0.64037818, -0.69187395, -0.5179888 ,\n",
       "        1.87949739, -0.58738776, -0.56841321, -0.62403653,  1.5898858 ,\n",
       "       -0.54875851, -0.57450638,  1.58743409, -0.60672975, -0.66686   ,\n",
       "       -0.65984315, -0.59162754, -0.53334944, -0.7365078 , -0.6228087 ,\n",
       "       -0.63528388,  1.88355825,  1.85209128, -0.63419501, -0.57257023,\n",
       "       -0.64057865, -0.70683903, -0.61721699, -0.74799722, -0.51918362,\n",
       "       -0.6791132 , -0.72126955, -0.70922474, -0.56036894,  1.20631191,\n",
       "       -0.68302725, -0.64559902, -0.51556144,  1.70357246, -0.25980324,\n",
       "       -0.53945881, -0.7138212 , -0.53001883, -0.4048804 , -0.67272641,\n",
       "       -0.5672602 ,  1.90579587, -0.56858871, -0.55779687,  1.94073151,\n",
       "       -0.49918562, -0.5907361 , -0.60922685, -0.64113721, -0.61333223,\n",
       "       -0.62923705,  1.72498058,  1.97149195,  1.34976425, -0.59937036,\n",
       "        1.72320619,  1.52547988, -0.61174816, -0.57404722, -0.53820502,\n",
       "       -0.62150294, -0.64517529, -0.63067385, -0.57640646, -0.6985006 ,\n",
       "       -0.19692427, -0.62614002,  1.79471097, -0.68617306, -0.61028   ,\n",
       "        1.05197942, -0.56235951, -0.55842486, -0.6937271 ,  1.66414625,\n",
       "       -0.74604647,  1.65537955,  1.68881926, -0.7378063 , -0.73526733,\n",
       "        1.64129056, -0.7448646 , -0.72179516, -0.72886807, -0.61955277,\n",
       "        1.75743433, -0.57172512, -0.63832364,  1.8446275 ,  0.21341219,\n",
       "       -0.5474807 ,  1.49282799,  1.87904232,  1.82658965, -0.69898635,\n",
       "       -0.58470267, -0.72543098, -0.62340603, -0.66767894,  1.78777002,\n",
       "       -0.54262739, -0.6673318 , -0.6244046 , -0.76040611, -0.77989609,\n",
       "        1.88431934, -0.57752095, -0.71979774, -0.57969896, -0.63415972,\n",
       "        1.92820456,  1.85503819,  1.19945062, -0.64474463,  1.31911641,\n",
       "       -0.56816801, -0.54969622, -0.6397808 , -0.52381086, -0.38074077,\n",
       "       -0.54545146, -0.79397089,  1.90560051, -0.55795685, -0.60951423,\n",
       "       -0.72516228, -0.50698899, -0.73863082, -0.62358425,  0.73173886,\n",
       "        1.76579154, -0.65649896, -0.75672183, -0.62153283, -0.63559806,\n",
       "       -0.5703191 , -0.73367754, -0.58865091, -0.6961444 , -0.55282904,\n",
       "       -0.63380178, -0.64009147, -0.64106193,  1.70026649, -0.71394652,\n",
       "       -0.62550665, -0.68288195,  1.79779712, -0.47589751,  1.06497148,\n",
       "       -0.64573849, -0.28835909,  1.88990393, -0.57882847, -0.69897777,\n",
       "        1.73003773, -0.52876788,  1.67726928, -0.63019933, -0.53630045,\n",
       "       -0.73351634,  1.80286375,  1.81184473, -0.49316119, -0.63346413,\n",
       "        1.67357524, -0.63788022, -0.61818423, -0.63601476,  1.16495451,\n",
       "       -0.69089675, -0.64582738, -0.60133087,  1.33902355, -0.68912692,\n",
       "       -0.53762404, -0.54497489, -0.63746524, -0.63773215, -0.39031152,\n",
       "        1.32650196, -0.46470995, -0.63346047,  1.90742974, -0.59199128,\n",
       "        1.30585407,  1.96980906, -0.6690614 , -0.53199586,  1.80373204,\n",
       "       -0.63306631, -0.57913954, -0.57148042, -0.57278498, -0.73420927,\n",
       "        1.9544322 , -0.5898667 , -0.67786602,  1.55571141, -0.75973161,\n",
       "       -0.73817103, -0.68638374, -0.62958173, -0.70537346,  1.11543088,\n",
       "       -0.53331863, -0.75064991, -0.69973615, -0.60678538, -0.64662262,\n",
       "        0.72400661, -0.64901443, -0.54628315,  0.70083031,  1.64602679,\n",
       "        1.66078903, -0.61973234,  1.59967113, -0.58136127, -0.55272475,\n",
       "        1.66575655, -0.65162823,  0.6292831 , -0.57684312, -0.65141224,\n",
       "       -0.66756228, -0.60987537, -0.62853153, -0.52820745,  1.73284943,\n",
       "       -0.64013558, -0.60880035,  0.98038841, -0.38657624, -0.52919079,\n",
       "       -0.52381535, -0.64371594, -0.56179771, -0.65122846, -0.72093351,\n",
       "        1.50345832, -0.62308324, -0.64195198,  1.76161233, -0.77355296,\n",
       "       -0.73190291, -0.5777995 ,  1.12018515, -0.5926406 , -0.63671085,\n",
       "       -0.52210712,  1.5950334 , -0.55613885, -0.57787044,  1.60410358,\n",
       "        1.74577668, -0.79029057, -0.63377938, -0.63106893,  0.88800647,\n",
       "       -0.3291763 , -0.5253114 ,  1.77624523,  1.68035943, -0.62836961,\n",
       "       -0.5567898 , -0.32288536, -0.62505479, -0.7611436 , -0.61807946,\n",
       "       -0.55853208, -0.54425334, -0.67653118, -0.73815907,  1.07299366,\n",
       "        1.71540087, -0.73166069, -0.61530651,  1.72715531, -0.47581282,\n",
       "       -0.64027352, -0.59960982, -0.65002497, -0.62380193, -0.67268124,\n",
       "        1.72736077, -0.49746989, -0.66298221, -0.43595182,  1.85298038,\n",
       "        1.57820104,  1.85850178, -0.52485824, -0.48280529,  1.81804586,\n",
       "       -0.58833741, -0.69253683, -0.6297352 , -0.6032987 , -0.54505925,\n",
       "       -0.70050814,  1.75470273, -0.54370694,  0.52414765, -0.53160717,\n",
       "       -0.49082462, -0.69382248,  1.08468855, -0.57055909, -0.62430667,\n",
       "        1.91151807,  1.76801003, -0.7031201 , -0.65864459,  0.94954139,\n",
       "       -0.58529712, -0.74372334, -0.69083249, -0.54310036, -0.56469671,\n",
       "        1.89550113, -0.61333735, -0.65606782, -0.52944034, -0.75364779,\n",
       "        0.92159372, -0.65694177,  1.43332703,  1.83852689, -0.55608081,\n",
       "       -0.68233789, -0.63154582,  1.80591859,  1.39609842, -0.58123008,\n",
       "       -0.6377722 ,  1.73501698, -0.5453676 , -0.62481776, -0.59521597,\n",
       "       -0.54142683, -0.44286919, -0.61240713, -0.53797478,  1.84875446,\n",
       "        0.41830316,  1.49506211,  0.94496716,  1.50013924, -0.58925233,\n",
       "       -0.56830324, -0.54858991, -0.61623859, -0.62587112, -0.65600822,\n",
       "       -0.62592456,  1.86362237,  1.17089933, -0.6134144 , -0.64787943,\n",
       "       -0.73949299, -0.56601104, -0.76524227,  0.69360208, -0.63101146,\n",
       "       -0.54350363, -0.60059939,  1.91772012, -0.69146916, -0.59261741,\n",
       "       -0.70683808, -0.53916381, -0.68640302, -0.49293878, -0.70099974,\n",
       "       -0.68927465,  1.94684434,  1.74465585, -0.48987524,  1.59094578,\n",
       "       -0.50900882, -0.6104036 , -0.75920465,  1.68072845,  1.08413158,\n",
       "        1.60261922, -0.73755689, -0.70350847,  1.23854119, -0.61256391,\n",
       "       -0.52868036, -0.56348957, -0.28490004,  1.68096101, -0.62349831,\n",
       "        1.77368541, -0.66836788,  1.85859378, -0.43019557,  1.70114108,\n",
       "       -0.63377613,  1.82822213, -0.65198954,  1.60239838,  1.78445821,\n",
       "       -0.61765812, -0.69535392, -0.55613192, -0.63009268,  1.71887669,\n",
       "       -0.68202667, -0.73446161, -0.6446569 , -0.48957547, -0.64844738,\n",
       "       -0.47216669,  1.79086679, -0.70042683,  0.43387824, -0.60844869,\n",
       "       -0.24626886, -0.74194791, -0.58589367, -0.78857542,  1.70907459,\n",
       "        1.54625564, -0.54953843, -0.638918  , -0.54102226, -0.54415548,\n",
       "       -0.64232814,  1.93333456,  1.38192207, -0.60445571, -0.54701477,\n",
       "       -0.6865106 ,  1.89047201, -0.77030372, -0.74497341, -0.53447605,\n",
       "       -0.5557363 , -0.61033997,  0.73582308, -0.55296892, -0.67416052,\n",
       "       -0.61519186, -0.61094741, -0.55198253, -0.69993295,  0.40913584,\n",
       "       -0.5932955 , -0.68471048,  1.86524927, -0.56926035, -0.68293206,\n",
       "       -0.7388037 , -0.7396324 ,  1.05380994,  1.86188377,  1.30133019,\n",
       "       -0.60975818,  0.73672688,  1.77895313, -0.54300532,  1.52423755,\n",
       "       -0.48105546, -0.55255077,  0.65204641, -0.53848846,  1.73636798,\n",
       "       -0.65260252, -0.58276524, -0.61603492, -0.68393303, -0.64018523,\n",
       "       -0.49848337,  1.45062751, -0.63240579, -0.64727473,  1.28822834,\n",
       "        1.6889505 , -0.63759234, -0.58231091,  0.68124318, -0.62211887,\n",
       "       -0.6070242 , -0.74290254, -0.58131131, -0.61343428,  1.90174166,\n",
       "       -0.56626733,  1.71321207,  1.6257197 , -0.39410659, -0.60163468,\n",
       "       -0.55279577,  0.66245597, -0.55623939, -0.62954467, -0.58060627,\n",
       "       -0.52710189, -0.53629025, -0.62062276, -0.5674025 , -0.72987365,\n",
       "       -0.54804004, -0.71338042, -0.63242149, -0.62446344,  1.88770248,\n",
       "       -0.581664  ,  1.57312342, -0.62809194, -0.68262387,  1.87593153,\n",
       "       -0.52155504,  1.89446806,  1.73253207,  0.41663035, -0.69586446,\n",
       "       -0.59868376,  0.33150564, -0.65133323,  1.31701545, -0.56880905,\n",
       "       -0.75178633,  1.67613866, -0.64646896, -0.675684  , -0.68076223,\n",
       "       -0.56211965, -0.58043792, -0.72382938, -0.73613789,  1.89002985,\n",
       "       -0.63976347, -0.68760912, -0.49757055, -0.59166337, -0.7356733 ,\n",
       "       -0.58083596,  1.86866206, -0.65166997,  1.39144711, -0.65977079,\n",
       "       -0.74633516, -0.6139451 ,  1.79341928,  1.67848537,  1.9130503 ,\n",
       "       -0.72588   , -0.63779554, -0.6365745 , -0.61626477, -0.7284066 ,\n",
       "        1.86164985, -0.62973107,  1.5244209 , -0.60850761, -0.67840605,\n",
       "       -0.57699541, -0.53785857,  1.75786975,  1.85338673,  1.86858802,\n",
       "        1.80928409, -0.54313553, -0.56386427, -0.58765893,  1.75819493,\n",
       "       -0.57215021,  0.24462673, -0.56451322, -0.59453764, -0.54468289,\n",
       "        1.93219273, -0.68625031, -0.72706679, -0.64978625, -0.53001364,\n",
       "       -0.59955022,  1.53729844, -0.61926288, -0.53958835, -0.6427169 ,\n",
       "       -0.56156767, -0.59682311,  0.25692352, -0.69180088, -0.62974641,\n",
       "        1.70686684,  0.42550114, -0.61455204, -0.61412645,  1.49281406,\n",
       "       -0.67329005,  1.68878686, -0.70209096,  1.02805347, -0.49849833,\n",
       "        1.86164806, -0.71219537, -0.53281413,  1.89753142, -0.62618969,\n",
       "       -0.58605279, -0.50671517, -0.53416457, -0.67516853, -0.55279506,\n",
       "       -0.60935026, -0.62159329, -0.62387704, -0.55099854, -0.56045011,\n",
       "        1.79704995, -0.60979271,  1.14055081, -0.57811264, -0.49883114,\n",
       "        1.8114472 , -0.55419133, -0.62667881, -0.70700578, -0.75323196,\n",
       "       -0.5489106 , -0.64665486,  0.34385798, -0.59779258, -0.81225817,\n",
       "       -0.52929606, -0.72165928,  1.87899211,  1.84240716, -0.68405603,\n",
       "       -0.59642707, -0.55127664, -0.59378936,  1.81984008, -0.58165697,\n",
       "       -0.69050363, -0.49009779, -0.67973675, -0.54049878, -0.55862552,\n",
       "        1.02806349, -0.58963253, -0.63855552, -0.59842405,  0.98339631,\n",
       "       -0.58030984,  1.54849517, -0.5456421 ,  1.87354841, -0.61290484,\n",
       "        1.91839188,  1.85503236, -0.54568548, -0.47782073, -0.22989617,\n",
       "       -0.53527641,  1.65019968,  1.91929227, -0.59903963,  1.61366363,\n",
       "        1.61311599,  1.89088554])"
      ]
     },
     "execution_count": 262,
     "metadata": {},
     "output_type": "execute_result"
    }
   ],
   "source": [
    "train_predict"
   ]
  },
  {
   "cell_type": "code",
   "execution_count": 263,
   "metadata": {},
   "outputs": [],
   "source": [
    "predict_train_table = pd.DataFrame({\n",
    "    'Actual':y_train,'prediction': train_predict})"
   ]
  },
  {
   "cell_type": "code",
   "execution_count": 264,
   "metadata": {},
   "outputs": [
    {
     "data": {
      "text/html": [
       "<div>\n",
       "<style scoped>\n",
       "    .dataframe tbody tr th:only-of-type {\n",
       "        vertical-align: middle;\n",
       "    }\n",
       "\n",
       "    .dataframe tbody tr th {\n",
       "        vertical-align: top;\n",
       "    }\n",
       "\n",
       "    .dataframe thead th {\n",
       "        text-align: right;\n",
       "    }\n",
       "</style>\n",
       "<table border=\"1\" class=\"dataframe\">\n",
       "  <thead>\n",
       "    <tr style=\"text-align: right;\">\n",
       "      <th></th>\n",
       "      <th>Actual</th>\n",
       "      <th>prediction</th>\n",
       "    </tr>\n",
       "  </thead>\n",
       "  <tbody>\n",
       "    <tr>\n",
       "      <th>0</th>\n",
       "      <td>1.793928</td>\n",
       "      <td>1.803857</td>\n",
       "    </tr>\n",
       "    <tr>\n",
       "      <th>1</th>\n",
       "      <td>-0.659129</td>\n",
       "      <td>-0.662130</td>\n",
       "    </tr>\n",
       "    <tr>\n",
       "      <th>2</th>\n",
       "      <td>1.937881</td>\n",
       "      <td>1.924833</td>\n",
       "    </tr>\n",
       "    <tr>\n",
       "      <th>3</th>\n",
       "      <td>-0.693118</td>\n",
       "      <td>-0.696637</td>\n",
       "    </tr>\n",
       "    <tr>\n",
       "      <th>4</th>\n",
       "      <td>0.887081</td>\n",
       "      <td>0.875670</td>\n",
       "    </tr>\n",
       "    <tr>\n",
       "      <th>5</th>\n",
       "      <td>-0.718253</td>\n",
       "      <td>-0.714764</td>\n",
       "    </tr>\n",
       "    <tr>\n",
       "      <th>6</th>\n",
       "      <td>1.807066</td>\n",
       "      <td>1.755203</td>\n",
       "    </tr>\n",
       "    <tr>\n",
       "      <th>7</th>\n",
       "      <td>-0.705114</td>\n",
       "      <td>-0.683620</td>\n",
       "    </tr>\n",
       "    <tr>\n",
       "      <th>8</th>\n",
       "      <td>1.820348</td>\n",
       "      <td>1.814841</td>\n",
       "    </tr>\n",
       "    <tr>\n",
       "      <th>9</th>\n",
       "      <td>-0.556163</td>\n",
       "      <td>-0.557672</td>\n",
       "    </tr>\n",
       "    <tr>\n",
       "      <th>10</th>\n",
       "      <td>-0.620856</td>\n",
       "      <td>-0.604789</td>\n",
       "    </tr>\n",
       "    <tr>\n",
       "      <th>11</th>\n",
       "      <td>-0.729821</td>\n",
       "      <td>-0.730115</td>\n",
       "    </tr>\n",
       "    <tr>\n",
       "      <th>12</th>\n",
       "      <td>-0.631995</td>\n",
       "      <td>-0.635055</td>\n",
       "    </tr>\n",
       "    <tr>\n",
       "      <th>13</th>\n",
       "      <td>1.919173</td>\n",
       "      <td>1.924014</td>\n",
       "    </tr>\n",
       "    <tr>\n",
       "      <th>14</th>\n",
       "      <td>-0.603005</td>\n",
       "      <td>-0.605110</td>\n",
       "    </tr>\n",
       "    <tr>\n",
       "      <th>15</th>\n",
       "      <td>-0.690119</td>\n",
       "      <td>-0.690725</td>\n",
       "    </tr>\n",
       "    <tr>\n",
       "      <th>16</th>\n",
       "      <td>-0.618143</td>\n",
       "      <td>-0.623202</td>\n",
       "    </tr>\n",
       "    <tr>\n",
       "      <th>17</th>\n",
       "      <td>-0.430632</td>\n",
       "      <td>-0.434346</td>\n",
       "    </tr>\n",
       "    <tr>\n",
       "      <th>18</th>\n",
       "      <td>-0.490042</td>\n",
       "      <td>-0.490522</td>\n",
       "    </tr>\n",
       "    <tr>\n",
       "      <th>19</th>\n",
       "      <td>-0.491612</td>\n",
       "      <td>-0.491116</td>\n",
       "    </tr>\n",
       "  </tbody>\n",
       "</table>\n",
       "</div>"
      ],
      "text/plain": [
       "      Actual  prediction\n",
       "0   1.793928    1.803857\n",
       "1  -0.659129   -0.662130\n",
       "2   1.937881    1.924833\n",
       "3  -0.693118   -0.696637\n",
       "4   0.887081    0.875670\n",
       "5  -0.718253   -0.714764\n",
       "6   1.807066    1.755203\n",
       "7  -0.705114   -0.683620\n",
       "8   1.820348    1.814841\n",
       "9  -0.556163   -0.557672\n",
       "10 -0.620856   -0.604789\n",
       "11 -0.729821   -0.730115\n",
       "12 -0.631995   -0.635055\n",
       "13  1.919173    1.924014\n",
       "14 -0.603005   -0.605110\n",
       "15 -0.690119   -0.690725\n",
       "16 -0.618143   -0.623202\n",
       "17 -0.430632   -0.434346\n",
       "18 -0.490042   -0.490522\n",
       "19 -0.491612   -0.491116"
      ]
     },
     "execution_count": 264,
     "metadata": {},
     "output_type": "execute_result"
    }
   ],
   "source": [
    "predict_train_table=predict_train_table.reset_index(drop=True)\n",
    "predict_train_table.head(20)"
   ]
  },
  {
   "cell_type": "code",
   "execution_count": 265,
   "metadata": {},
   "outputs": [
    {
     "data": {
      "text/plain": [
       "<AxesSubplot:>"
      ]
     },
     "execution_count": 265,
     "metadata": {},
     "output_type": "execute_result"
    },
    {
     "data": {
      "image/png": "[encoded data removed]",
      "text/plain": [
       "<Figure size 432x288 with 1 Axes>"
      ]
     },
     "metadata": {},
     "output_type": "display_data"
    },
    {
     "data": {
      "image/png": "[encoded data removed]",
      "text/plain": [
       "<Figure size 432x288 with 1 Axes>"
      ]
     },
     "metadata": {},
     "output_type": "display_data"
    }
   ],
   "source": [
    "show_graph_train = np.exp(predict_train_table.head(20))\n",
    "show_graph_train.plot(kind='line')\n",
    "show_graph_train2 = np.exp(predict_train_table.head(20))\n",
    "show_graph_train2.plot(kind='bar')"
   ]
  },
  {
   "cell_type": "code",
   "execution_count": 266,
   "metadata": {},
   "outputs": [],
   "source": [
    "predict_test = reg.predict(x_test)"
   ]
  },
  {
   "cell_type": "code",
   "execution_count": 267,
   "metadata": {},
   "outputs": [],
   "source": [
    "predict_test_table = pd.DataFrame({'Actual': y_test,'Prediction': predict_test\n",
    "})"
   ]
  },
  {
   "cell_type": "code",
   "execution_count": 268,
   "metadata": {},
   "outputs": [
    {
     "data": {
      "text/html": [
       "<div>\n",
       "<style scoped>\n",
       "    .dataframe tbody tr th:only-of-type {\n",
       "        vertical-align: middle;\n",
       "    }\n",
       "\n",
       "    .dataframe tbody tr th {\n",
       "        vertical-align: top;\n",
       "    }\n",
       "\n",
       "    .dataframe thead th {\n",
       "        text-align: right;\n",
       "    }\n",
       "</style>\n",
       "<table border=\"1\" class=\"dataframe\">\n",
       "  <thead>\n",
       "    <tr style=\"text-align: right;\">\n",
       "      <th></th>\n",
       "      <th>Actual</th>\n",
       "      <th>Prediction</th>\n",
       "    </tr>\n",
       "  </thead>\n",
       "  <tbody>\n",
       "    <tr>\n",
       "      <th>0</th>\n",
       "      <td>-0.531314</td>\n",
       "      <td>-0.533178</td>\n",
       "    </tr>\n",
       "    <tr>\n",
       "      <th>1</th>\n",
       "      <td>-0.412210</td>\n",
       "      <td>-0.416974</td>\n",
       "    </tr>\n",
       "    <tr>\n",
       "      <th>2</th>\n",
       "      <td>-0.638993</td>\n",
       "      <td>-0.640059</td>\n",
       "    </tr>\n",
       "    <tr>\n",
       "      <th>3</th>\n",
       "      <td>-0.661414</td>\n",
       "      <td>-0.651052</td>\n",
       "    </tr>\n",
       "    <tr>\n",
       "      <th>4</th>\n",
       "      <td>0.464361</td>\n",
       "      <td>0.476671</td>\n",
       "    </tr>\n",
       "    <tr>\n",
       "      <th>5</th>\n",
       "      <td>-0.619714</td>\n",
       "      <td>-0.622984</td>\n",
       "    </tr>\n",
       "    <tr>\n",
       "      <th>6</th>\n",
       "      <td>-0.602005</td>\n",
       "      <td>-0.596602</td>\n",
       "    </tr>\n",
       "    <tr>\n",
       "      <th>7</th>\n",
       "      <td>1.573285</td>\n",
       "      <td>1.579242</td>\n",
       "    </tr>\n",
       "    <tr>\n",
       "      <th>8</th>\n",
       "      <td>-0.737247</td>\n",
       "      <td>-0.732985</td>\n",
       "    </tr>\n",
       "    <tr>\n",
       "      <th>9</th>\n",
       "      <td>-0.608146</td>\n",
       "      <td>-0.609086</td>\n",
       "    </tr>\n",
       "    <tr>\n",
       "      <th>10</th>\n",
       "      <td>-0.652988</td>\n",
       "      <td>-0.650375</td>\n",
       "    </tr>\n",
       "    <tr>\n",
       "      <th>11</th>\n",
       "      <td>-0.570016</td>\n",
       "      <td>-0.559289</td>\n",
       "    </tr>\n",
       "    <tr>\n",
       "      <th>12</th>\n",
       "      <td>-0.596578</td>\n",
       "      <td>-0.598962</td>\n",
       "    </tr>\n",
       "    <tr>\n",
       "      <th>13</th>\n",
       "      <td>-0.571444</td>\n",
       "      <td>-0.559788</td>\n",
       "    </tr>\n",
       "    <tr>\n",
       "      <th>14</th>\n",
       "      <td>-0.666127</td>\n",
       "      <td>-0.668575</td>\n",
       "    </tr>\n",
       "    <tr>\n",
       "      <th>15</th>\n",
       "      <td>-0.728964</td>\n",
       "      <td>-0.724954</td>\n",
       "    </tr>\n",
       "    <tr>\n",
       "      <th>16</th>\n",
       "      <td>-0.627283</td>\n",
       "      <td>-0.626441</td>\n",
       "    </tr>\n",
       "    <tr>\n",
       "      <th>17</th>\n",
       "      <td>-0.631138</td>\n",
       "      <td>-0.634909</td>\n",
       "    </tr>\n",
       "    <tr>\n",
       "      <th>18</th>\n",
       "      <td>1.777219</td>\n",
       "      <td>1.788710</td>\n",
       "    </tr>\n",
       "    <tr>\n",
       "      <th>19</th>\n",
       "      <td>-0.471191</td>\n",
       "      <td>-0.474835</td>\n",
       "    </tr>\n",
       "    <tr>\n",
       "      <th>20</th>\n",
       "      <td>-0.657844</td>\n",
       "      <td>-0.661238</td>\n",
       "    </tr>\n",
       "    <tr>\n",
       "      <th>21</th>\n",
       "      <td>-0.579298</td>\n",
       "      <td>-0.587110</td>\n",
       "    </tr>\n",
       "    <tr>\n",
       "      <th>22</th>\n",
       "      <td>-0.616715</td>\n",
       "      <td>-0.630836</td>\n",
       "    </tr>\n",
       "    <tr>\n",
       "      <th>23</th>\n",
       "      <td>1.847196</td>\n",
       "      <td>1.866664</td>\n",
       "    </tr>\n",
       "    <tr>\n",
       "      <th>24</th>\n",
       "      <td>-0.471905</td>\n",
       "      <td>-0.471009</td>\n",
       "    </tr>\n",
       "  </tbody>\n",
       "</table>\n",
       "</div>"
      ],
      "text/plain": [
       "      Actual  Prediction\n",
       "0  -0.531314   -0.533178\n",
       "1  -0.412210   -0.416974\n",
       "2  -0.638993   -0.640059\n",
       "3  -0.661414   -0.651052\n",
       "4   0.464361    0.476671\n",
       "5  -0.619714   -0.622984\n",
       "6  -0.602005   -0.596602\n",
       "7   1.573285    1.579242\n",
       "8  -0.737247   -0.732985\n",
       "9  -0.608146   -0.609086\n",
       "10 -0.652988   -0.650375\n",
       "11 -0.570016   -0.559289\n",
       "12 -0.596578   -0.598962\n",
       "13 -0.571444   -0.559788\n",
       "14 -0.666127   -0.668575\n",
       "15 -0.728964   -0.724954\n",
       "16 -0.627283   -0.626441\n",
       "17 -0.631138   -0.634909\n",
       "18  1.777219    1.788710\n",
       "19 -0.471191   -0.474835\n",
       "20 -0.657844   -0.661238\n",
       "21 -0.579298   -0.587110\n",
       "22 -0.616715   -0.630836\n",
       "23  1.847196    1.866664\n",
       "24 -0.471905   -0.471009"
      ]
     },
     "execution_count": 268,
     "metadata": {},
     "output_type": "execute_result"
    }
   ],
   "source": [
    "predict_test_table =predict_test_table.reset_index(drop=True)\n",
    "predict_test_table.head(25)"
   ]
  },
  {
   "cell_type": "markdown",
   "metadata": {},
   "source": [
    "#### Cek Error"
   ]
  },
  {
   "cell_type": "code",
   "execution_count": 269,
   "metadata": {},
   "outputs": [],
   "source": [
    "from sklearn.metrics import mean_absolute_error\n",
    "from sklearn.metrics import r2_score\n",
    "from sklearn import metrics\n",
    "import math"
   ]
  },
  {
   "cell_type": "code",
   "execution_count": 270,
   "metadata": {},
   "outputs": [
    {
     "data": {
      "text/plain": [
       "0.008276948835980047"
      ]
     },
     "execution_count": 270,
     "metadata": {},
     "output_type": "execute_result"
    }
   ],
   "source": [
    "metrics.mean_absolute_error(y_test,predict_test)"
   ]
  },
  {
   "cell_type": "code",
   "execution_count": 271,
   "metadata": {},
   "outputs": [
    {
     "data": {
      "text/plain": [
       "0.00018169948748022192"
      ]
     },
     "execution_count": 271,
     "metadata": {},
     "output_type": "execute_result"
    }
   ],
   "source": [
    "metrics.mean_squared_error(y_test,predict_test)"
   ]
  },
  {
   "cell_type": "code",
   "execution_count": 272,
   "metadata": {},
   "outputs": [
    {
     "data": {
      "text/plain": [
       "0.013479595226868717"
      ]
     },
     "execution_count": 272,
     "metadata": {},
     "output_type": "execute_result"
    }
   ],
   "source": [
    "math.sqrt(metrics.mean_squared_error(y_test,predict_test))"
   ]
  },
  {
   "cell_type": "code",
   "execution_count": 273,
   "metadata": {},
   "outputs": [
    {
     "data": {
      "text/plain": [
       "0.9998130553270669"
      ]
     },
     "execution_count": 273,
     "metadata": {},
     "output_type": "execute_result"
    }
   ],
   "source": [
    "metrics.r2_score(y_test,predict_test)"
   ]
  },
  {
   "cell_type": "code",
   "execution_count": 274,
   "metadata": {},
   "outputs": [],
   "source": [
    "show_graph = np.exp(predict_test_table.head(20))"
   ]
  },
  {
   "cell_type": "code",
   "execution_count": 275,
   "metadata": {},
   "outputs": [
    {
     "data": {
      "image/png": "[encoded data removed]",
      "text/plain": [
       "<Figure size 432x288 with 1 Axes>"
      ]
     },
     "metadata": {},
     "output_type": "display_data"
    }
   ],
   "source": [
    "show_graph.plot(kind='bar')\n",
    "plt.show()"
   ]
  },
  {
   "cell_type": "code",
   "execution_count": null,
   "metadata": {},
   "outputs": [],
   "source": []
  }
 ],
 "metadata": {
  "interpreter": {
   "hash": "96a802c66d4af08a06af96b6830e1555cd86e4f2c80db4ac5af8205862077d21"
  },
  "kernelspec": {
   "display_name": "Python 3.9.7 ('base')",
   "language": "python",
   "name": "python3"
  },
  "language_info": {
   "codemirror_mode": {
    "name": "ipython",
    "version": 3
   },
   "file_extension": ".py",
   "mimetype": "text/x-python",
   "name": "python",
   "nbconvert_exporter": "python",
   "pygments_lexer": "ipython3",
   "version": "3.9.7"
  },
  "orig_nbformat": 4
 },
 "nbformat": 4,
 "nbformat_minor": 2
}
