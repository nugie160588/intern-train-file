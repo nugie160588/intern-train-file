{
 "cells": [
  {
   "cell_type": "markdown",
   "metadata": {},
   "source": [
    "# Pemodelan Regresi Pada Harga Saham Tesla"
   ]
  },
  {
   "cell_type": "markdown",
   "metadata": {},
   "source": [
    "#### Persiapan Data"
   ]
  },
  {
   "cell_type": "code",
   "execution_count": 12,
   "metadata": {},
   "outputs": [],
   "source": [
    "# import package yang diperlukan\n",
    "\n",
    "import pandas as pd\n",
    "import numpy as np\n",
    "import matplotlib.pyplot as plt\n",
    "import seaborn as sns\n",
    "from sklearn.linear_model import LinearRegression\n",
    "sns.set()"
   ]
  },
  {
   "cell_type": "code",
   "execution_count": 276,
   "metadata": {},
   "outputs": [
    {
     "data": {
      "text/html": [
       "<div>\n",
       "<style scoped>\n",
       "    .dataframe tbody tr th:only-of-type {\n",
       "        vertical-align: middle;\n",
       "    }\n",
       "\n",
       "    .dataframe tbody tr th {\n",
       "        vertical-align: top;\n",
       "    }\n",
       "\n",
       "    .dataframe thead th {\n",
       "        text-align: right;\n",
       "    }\n",
       "</style>\n",
       "<table border=\"1\" class=\"dataframe\">\n",
       "  <thead>\n",
       "    <tr style=\"text-align: right;\">\n",
       "      <th></th>\n",
       "      <th>Date</th>\n",
       "      <th>Open</th>\n",
       "      <th>High</th>\n",
       "      <th>Low</th>\n",
       "      <th>Close</th>\n",
       "      <th>Volume</th>\n",
       "      <th>Adj Close</th>\n",
       "    </tr>\n",
       "  </thead>\n",
       "  <tbody>\n",
       "    <tr>\n",
       "      <th>0</th>\n",
       "      <td>6/29/2010</td>\n",
       "      <td>19.000000</td>\n",
       "      <td>25.000000</td>\n",
       "      <td>17.540001</td>\n",
       "      <td>23.889999</td>\n",
       "      <td>18766300</td>\n",
       "      <td>23.889999</td>\n",
       "    </tr>\n",
       "    <tr>\n",
       "      <th>1</th>\n",
       "      <td>6/30/2010</td>\n",
       "      <td>25.790001</td>\n",
       "      <td>30.420000</td>\n",
       "      <td>23.299999</td>\n",
       "      <td>23.830000</td>\n",
       "      <td>17187100</td>\n",
       "      <td>23.830000</td>\n",
       "    </tr>\n",
       "    <tr>\n",
       "      <th>2</th>\n",
       "      <td>7/1/2010</td>\n",
       "      <td>25.000000</td>\n",
       "      <td>25.920000</td>\n",
       "      <td>20.270000</td>\n",
       "      <td>21.959999</td>\n",
       "      <td>8218800</td>\n",
       "      <td>21.959999</td>\n",
       "    </tr>\n",
       "    <tr>\n",
       "      <th>3</th>\n",
       "      <td>7/2/2010</td>\n",
       "      <td>23.000000</td>\n",
       "      <td>23.100000</td>\n",
       "      <td>18.709999</td>\n",
       "      <td>19.200001</td>\n",
       "      <td>5139800</td>\n",
       "      <td>19.200001</td>\n",
       "    </tr>\n",
       "    <tr>\n",
       "      <th>4</th>\n",
       "      <td>7/6/2010</td>\n",
       "      <td>20.000000</td>\n",
       "      <td>20.000000</td>\n",
       "      <td>15.830000</td>\n",
       "      <td>16.110001</td>\n",
       "      <td>6866900</td>\n",
       "      <td>16.110001</td>\n",
       "    </tr>\n",
       "    <tr>\n",
       "      <th>...</th>\n",
       "      <td>...</td>\n",
       "      <td>...</td>\n",
       "      <td>...</td>\n",
       "      <td>...</td>\n",
       "      <td>...</td>\n",
       "      <td>...</td>\n",
       "      <td>...</td>\n",
       "    </tr>\n",
       "    <tr>\n",
       "      <th>1687</th>\n",
       "      <td>3/13/2017</td>\n",
       "      <td>244.820007</td>\n",
       "      <td>246.850006</td>\n",
       "      <td>242.779999</td>\n",
       "      <td>246.169998</td>\n",
       "      <td>3010700</td>\n",
       "      <td>246.169998</td>\n",
       "    </tr>\n",
       "    <tr>\n",
       "      <th>1688</th>\n",
       "      <td>3/14/2017</td>\n",
       "      <td>246.110001</td>\n",
       "      <td>258.119995</td>\n",
       "      <td>246.020004</td>\n",
       "      <td>258.000000</td>\n",
       "      <td>7575500</td>\n",
       "      <td>258.000000</td>\n",
       "    </tr>\n",
       "    <tr>\n",
       "      <th>1689</th>\n",
       "      <td>3/15/2017</td>\n",
       "      <td>257.000000</td>\n",
       "      <td>261.000000</td>\n",
       "      <td>254.270004</td>\n",
       "      <td>255.729996</td>\n",
       "      <td>4816600</td>\n",
       "      <td>255.729996</td>\n",
       "    </tr>\n",
       "    <tr>\n",
       "      <th>1690</th>\n",
       "      <td>3/16/2017</td>\n",
       "      <td>262.399994</td>\n",
       "      <td>265.750000</td>\n",
       "      <td>259.059998</td>\n",
       "      <td>262.049988</td>\n",
       "      <td>7100400</td>\n",
       "      <td>262.049988</td>\n",
       "    </tr>\n",
       "    <tr>\n",
       "      <th>1691</th>\n",
       "      <td>3/17/2017</td>\n",
       "      <td>264.000000</td>\n",
       "      <td>265.329987</td>\n",
       "      <td>261.200012</td>\n",
       "      <td>261.500000</td>\n",
       "      <td>6475900</td>\n",
       "      <td>261.500000</td>\n",
       "    </tr>\n",
       "  </tbody>\n",
       "</table>\n",
       "<p>1692 rows × 7 columns</p>\n",
       "</div>"
      ],
      "text/plain": [
       "           Date        Open        High         Low       Close    Volume  \\\n",
       "0     6/29/2010   19.000000   25.000000   17.540001   23.889999  18766300   \n",
       "1     6/30/2010   25.790001   30.420000   23.299999   23.830000  17187100   \n",
       "2      7/1/2010   25.000000   25.920000   20.270000   21.959999   8218800   \n",
       "3      7/2/2010   23.000000   23.100000   18.709999   19.200001   5139800   \n",
       "4      7/6/2010   20.000000   20.000000   15.830000   16.110001   6866900   \n",
       "...         ...         ...         ...         ...         ...       ...   \n",
       "1687  3/13/2017  244.820007  246.850006  242.779999  246.169998   3010700   \n",
       "1688  3/14/2017  246.110001  258.119995  246.020004  258.000000   7575500   \n",
       "1689  3/15/2017  257.000000  261.000000  254.270004  255.729996   4816600   \n",
       "1690  3/16/2017  262.399994  265.750000  259.059998  262.049988   7100400   \n",
       "1691  3/17/2017  264.000000  265.329987  261.200012  261.500000   6475900   \n",
       "\n",
       "       Adj Close  \n",
       "0      23.889999  \n",
       "1      23.830000  \n",
       "2      21.959999  \n",
       "3      19.200001  \n",
       "4      16.110001  \n",
       "...          ...  \n",
       "1687  246.169998  \n",
       "1688  258.000000  \n",
       "1689  255.729996  \n",
       "1690  262.049988  \n",
       "1691  261.500000  \n",
       "\n",
       "[1692 rows x 7 columns]"
      ]
     },
     "execution_count": 276,
     "metadata": {},
     "output_type": "execute_result"
    }
   ],
   "source": [
    "# baca dataset saham tesla\n",
    "\n",
    "df = pd.read_csv('tesla-stock.csv')\n",
    "df"
   ]
  },
  {
   "cell_type": "code",
   "execution_count": 291,
   "metadata": {},
   "outputs": [
    {
     "data": {
      "text/html": [
       "<div>\n",
       "<style scoped>\n",
       "    .dataframe tbody tr th:only-of-type {\n",
       "        vertical-align: middle;\n",
       "    }\n",
       "\n",
       "    .dataframe tbody tr th {\n",
       "        vertical-align: top;\n",
       "    }\n",
       "\n",
       "    .dataframe thead th {\n",
       "        text-align: right;\n",
       "    }\n",
       "</style>\n",
       "<table border=\"1\" class=\"dataframe\">\n",
       "  <thead>\n",
       "    <tr style=\"text-align: right;\">\n",
       "      <th></th>\n",
       "      <th>Open</th>\n",
       "      <th>High</th>\n",
       "      <th>Low</th>\n",
       "      <th>Close</th>\n",
       "      <th>Volume</th>\n",
       "      <th>Adj Close</th>\n",
       "    </tr>\n",
       "    <tr>\n",
       "      <th>Date</th>\n",
       "      <th></th>\n",
       "      <th></th>\n",
       "      <th></th>\n",
       "      <th></th>\n",
       "      <th></th>\n",
       "      <th></th>\n",
       "    </tr>\n",
       "  </thead>\n",
       "  <tbody>\n",
       "    <tr>\n",
       "      <th>6/29/2010</th>\n",
       "      <td>19.000000</td>\n",
       "      <td>25.00</td>\n",
       "      <td>17.540001</td>\n",
       "      <td>23.889999</td>\n",
       "      <td>18766300</td>\n",
       "      <td>23.889999</td>\n",
       "    </tr>\n",
       "    <tr>\n",
       "      <th>6/30/2010</th>\n",
       "      <td>25.790001</td>\n",
       "      <td>30.42</td>\n",
       "      <td>23.299999</td>\n",
       "      <td>23.830000</td>\n",
       "      <td>17187100</td>\n",
       "      <td>23.830000</td>\n",
       "    </tr>\n",
       "    <tr>\n",
       "      <th>7/1/2010</th>\n",
       "      <td>25.000000</td>\n",
       "      <td>25.92</td>\n",
       "      <td>20.270000</td>\n",
       "      <td>21.959999</td>\n",
       "      <td>8218800</td>\n",
       "      <td>21.959999</td>\n",
       "    </tr>\n",
       "    <tr>\n",
       "      <th>7/2/2010</th>\n",
       "      <td>23.000000</td>\n",
       "      <td>23.10</td>\n",
       "      <td>18.709999</td>\n",
       "      <td>19.200001</td>\n",
       "      <td>5139800</td>\n",
       "      <td>19.200001</td>\n",
       "    </tr>\n",
       "    <tr>\n",
       "      <th>7/6/2010</th>\n",
       "      <td>20.000000</td>\n",
       "      <td>20.00</td>\n",
       "      <td>15.830000</td>\n",
       "      <td>16.110001</td>\n",
       "      <td>6866900</td>\n",
       "      <td>16.110001</td>\n",
       "    </tr>\n",
       "  </tbody>\n",
       "</table>\n",
       "</div>"
      ],
      "text/plain": [
       "                Open   High        Low      Close    Volume  Adj Close\n",
       "Date                                                                  \n",
       "6/29/2010  19.000000  25.00  17.540001  23.889999  18766300  23.889999\n",
       "6/30/2010  25.790001  30.42  23.299999  23.830000  17187100  23.830000\n",
       "7/1/2010   25.000000  25.92  20.270000  21.959999   8218800  21.959999\n",
       "7/2/2010   23.000000  23.10  18.709999  19.200001   5139800  19.200001\n",
       "7/6/2010   20.000000  20.00  15.830000  16.110001   6866900  16.110001"
      ]
     },
     "execution_count": 291,
     "metadata": {},
     "output_type": "execute_result"
    }
   ],
   "source": [
    "# set kolom date menjadi index\n",
    "\n",
    "df.set_index('Date', inplace=True)\n",
    "df.head()"
   ]
  },
  {
   "cell_type": "code",
   "execution_count": 292,
   "metadata": {},
   "outputs": [
    {
     "name": "stdout",
     "output_type": "stream",
     "text": [
      "<class 'pandas.core.frame.DataFrame'>\n",
      "Index: 1692 entries, 6/29/2010 to 3/17/2017\n",
      "Data columns (total 6 columns):\n",
      " #   Column     Non-Null Count  Dtype  \n",
      "---  ------     --------------  -----  \n",
      " 0   Open       1692 non-null   float64\n",
      " 1   High       1692 non-null   float64\n",
      " 2   Low        1692 non-null   float64\n",
      " 3   Close      1692 non-null   float64\n",
      " 4   Volume     1692 non-null   int64  \n",
      " 5   Adj Close  1692 non-null   float64\n",
      "dtypes: float64(5), int64(1)\n",
      "memory usage: 92.5+ KB\n"
     ]
    }
   ],
   "source": [
    "# melihat informasi data\n",
    "\n",
    "df.info()"
   ]
  },
  {
   "cell_type": "code",
   "execution_count": 293,
   "metadata": {},
   "outputs": [
    {
     "data": {
      "text/html": [
       "<div>\n",
       "<style scoped>\n",
       "    .dataframe tbody tr th:only-of-type {\n",
       "        vertical-align: middle;\n",
       "    }\n",
       "\n",
       "    .dataframe tbody tr th {\n",
       "        vertical-align: top;\n",
       "    }\n",
       "\n",
       "    .dataframe thead th {\n",
       "        text-align: right;\n",
       "    }\n",
       "</style>\n",
       "<table border=\"1\" class=\"dataframe\">\n",
       "  <thead>\n",
       "    <tr style=\"text-align: right;\">\n",
       "      <th></th>\n",
       "      <th>Open</th>\n",
       "      <th>High</th>\n",
       "      <th>Low</th>\n",
       "      <th>Close</th>\n",
       "      <th>Volume</th>\n",
       "      <th>Adj Close</th>\n",
       "    </tr>\n",
       "  </thead>\n",
       "  <tbody>\n",
       "    <tr>\n",
       "      <th>count</th>\n",
       "      <td>1692.000000</td>\n",
       "      <td>1692.000000</td>\n",
       "      <td>1692.000000</td>\n",
       "      <td>1692.000000</td>\n",
       "      <td>1.692000e+03</td>\n",
       "      <td>1692.000000</td>\n",
       "    </tr>\n",
       "    <tr>\n",
       "      <th>mean</th>\n",
       "      <td>132.441572</td>\n",
       "      <td>134.769698</td>\n",
       "      <td>129.996223</td>\n",
       "      <td>132.428658</td>\n",
       "      <td>4.270741e+06</td>\n",
       "      <td>132.428658</td>\n",
       "    </tr>\n",
       "    <tr>\n",
       "      <th>std</th>\n",
       "      <td>94.309923</td>\n",
       "      <td>95.694914</td>\n",
       "      <td>92.855227</td>\n",
       "      <td>94.313187</td>\n",
       "      <td>4.295971e+06</td>\n",
       "      <td>94.313187</td>\n",
       "    </tr>\n",
       "    <tr>\n",
       "      <th>min</th>\n",
       "      <td>16.139999</td>\n",
       "      <td>16.629999</td>\n",
       "      <td>14.980000</td>\n",
       "      <td>15.800000</td>\n",
       "      <td>1.185000e+05</td>\n",
       "      <td>15.800000</td>\n",
       "    </tr>\n",
       "    <tr>\n",
       "      <th>25%</th>\n",
       "      <td>30.000000</td>\n",
       "      <td>30.650000</td>\n",
       "      <td>29.215000</td>\n",
       "      <td>29.884999</td>\n",
       "      <td>1.194350e+06</td>\n",
       "      <td>29.884999</td>\n",
       "    </tr>\n",
       "    <tr>\n",
       "      <th>50%</th>\n",
       "      <td>156.334999</td>\n",
       "      <td>162.370002</td>\n",
       "      <td>153.150002</td>\n",
       "      <td>158.160004</td>\n",
       "      <td>3.180700e+06</td>\n",
       "      <td>158.160004</td>\n",
       "    </tr>\n",
       "    <tr>\n",
       "      <th>75%</th>\n",
       "      <td>220.557495</td>\n",
       "      <td>224.099999</td>\n",
       "      <td>217.119999</td>\n",
       "      <td>220.022503</td>\n",
       "      <td>5.662100e+06</td>\n",
       "      <td>220.022503</td>\n",
       "    </tr>\n",
       "    <tr>\n",
       "      <th>max</th>\n",
       "      <td>287.670013</td>\n",
       "      <td>291.420013</td>\n",
       "      <td>280.399994</td>\n",
       "      <td>286.040009</td>\n",
       "      <td>3.716390e+07</td>\n",
       "      <td>286.040009</td>\n",
       "    </tr>\n",
       "  </tbody>\n",
       "</table>\n",
       "</div>"
      ],
      "text/plain": [
       "              Open         High          Low        Close        Volume  \\\n",
       "count  1692.000000  1692.000000  1692.000000  1692.000000  1.692000e+03   \n",
       "mean    132.441572   134.769698   129.996223   132.428658  4.270741e+06   \n",
       "std      94.309923    95.694914    92.855227    94.313187  4.295971e+06   \n",
       "min      16.139999    16.629999    14.980000    15.800000  1.185000e+05   \n",
       "25%      30.000000    30.650000    29.215000    29.884999  1.194350e+06   \n",
       "50%     156.334999   162.370002   153.150002   158.160004  3.180700e+06   \n",
       "75%     220.557495   224.099999   217.119999   220.022503  5.662100e+06   \n",
       "max     287.670013   291.420013   280.399994   286.040009  3.716390e+07   \n",
       "\n",
       "         Adj Close  \n",
       "count  1692.000000  \n",
       "mean    132.428658  \n",
       "std      94.313187  \n",
       "min      15.800000  \n",
       "25%      29.884999  \n",
       "50%     158.160004  \n",
       "75%     220.022503  \n",
       "max     286.040009  "
      ]
     },
     "execution_count": 293,
     "metadata": {},
     "output_type": "execute_result"
    }
   ],
   "source": [
    "# melihat statistik deskriptif pada data\n",
    "\n",
    "df.describe()"
   ]
  },
  {
   "cell_type": "code",
   "execution_count": 294,
   "metadata": {},
   "outputs": [
    {
     "data": {
      "text/plain": [
       "Open         0\n",
       "High         0\n",
       "Low          0\n",
       "Close        0\n",
       "Volume       0\n",
       "Adj Close    0\n",
       "dtype: int64"
      ]
     },
     "execution_count": 294,
     "metadata": {},
     "output_type": "execute_result"
    }
   ],
   "source": [
    "# cek nilai kosong\n",
    "\n",
    "df.isnull().sum()"
   ]
  },
  {
   "cell_type": "markdown",
   "metadata": {},
   "source": [
    "#### Eksplorasi Data"
   ]
  },
  {
   "cell_type": "code",
   "execution_count": 295,
   "metadata": {},
   "outputs": [
    {
     "data": {
      "image/png": "[encoded data removed]",
      "text/plain": [
       "<Figure size 432x288 with 6 Axes>"
      ]
     },
     "metadata": {},
     "output_type": "display_data"
    }
   ],
   "source": [
    "viz = df[['Open','Close','Low','High','Volume']]\n",
    "viz.hist()\n",
    "plt.show()"
   ]
  },
  {
   "cell_type": "code",
   "execution_count": 296,
   "metadata": {},
   "outputs": [
    {
     "name": "stderr",
     "output_type": "stream",
     "text": [
      "/Users/nugie/opt/anaconda3/lib/python3.9/site-packages/seaborn/_decorators.py:36: FutureWarning: Pass the following variable as a keyword arg: x. From version 0.12, the only valid positional argument will be `data`, and passing other arguments without an explicit keyword will result in an error or misinterpretation.\n",
      "  warnings.warn(\n"
     ]
    },
    {
     "data": {
      "text/plain": [
       "<AxesSubplot:xlabel='Open'>"
      ]
     },
     "execution_count": 296,
     "metadata": {},
     "output_type": "execute_result"
    },
    {
     "data": {
      "image/png": "[encoded data removed]",
      "text/plain": [
       "<Figure size 432x288 with 1 Axes>"
      ]
     },
     "metadata": {},
     "output_type": "display_data"
    }
   ],
   "source": [
    "sns.boxplot(df['Open'])"
   ]
  },
  {
   "cell_type": "code",
   "execution_count": 297,
   "metadata": {},
   "outputs": [
    {
     "name": "stderr",
     "output_type": "stream",
     "text": [
      "/Users/nugie/opt/anaconda3/lib/python3.9/site-packages/seaborn/_decorators.py:36: FutureWarning: Pass the following variable as a keyword arg: x. From version 0.12, the only valid positional argument will be `data`, and passing other arguments without an explicit keyword will result in an error or misinterpretation.\n",
      "  warnings.warn(\n"
     ]
    },
    {
     "data": {
      "text/plain": [
       "<AxesSubplot:xlabel='Close'>"
      ]
     },
     "execution_count": 297,
     "metadata": {},
     "output_type": "execute_result"
    },
    {
     "data": {
      "image/png": "[encoded data removed]",
      "text/plain": [
       "<Figure size 432x288 with 1 Axes>"
      ]
     },
     "metadata": {},
     "output_type": "display_data"
    }
   ],
   "source": [
    "sns.boxplot(df['Close'])"
   ]
  },
  {
   "cell_type": "code",
   "execution_count": 298,
   "metadata": {},
   "outputs": [
    {
     "name": "stderr",
     "output_type": "stream",
     "text": [
      "/Users/nugie/opt/anaconda3/lib/python3.9/site-packages/seaborn/_decorators.py:36: FutureWarning: Pass the following variable as a keyword arg: x. From version 0.12, the only valid positional argument will be `data`, and passing other arguments without an explicit keyword will result in an error or misinterpretation.\n",
      "  warnings.warn(\n"
     ]
    },
    {
     "data": {
      "text/plain": [
       "<AxesSubplot:xlabel='Low'>"
      ]
     },
     "execution_count": 298,
     "metadata": {},
     "output_type": "execute_result"
    },
    {
     "data": {
      "image/png": "[encoded data removed]",
      "text/plain": [
       "<Figure size 432x288 with 1 Axes>"
      ]
     },
     "metadata": {},
     "output_type": "display_data"
    }
   ],
   "source": [
    "sns.boxplot(df['Low'])"
   ]
  },
  {
   "cell_type": "code",
   "execution_count": 299,
   "metadata": {},
   "outputs": [
    {
     "name": "stderr",
     "output_type": "stream",
     "text": [
      "/Users/nugie/opt/anaconda3/lib/python3.9/site-packages/seaborn/_decorators.py:36: FutureWarning: Pass the following variable as a keyword arg: x. From version 0.12, the only valid positional argument will be `data`, and passing other arguments without an explicit keyword will result in an error or misinterpretation.\n",
      "  warnings.warn(\n"
     ]
    },
    {
     "data": {
      "text/plain": [
       "<AxesSubplot:xlabel='High'>"
      ]
     },
     "execution_count": 299,
     "metadata": {},
     "output_type": "execute_result"
    },
    {
     "data": {
      "image/png": "[encoded data removed]",
      "text/plain": [
       "<Figure size 432x288 with 1 Axes>"
      ]
     },
     "metadata": {},
     "output_type": "display_data"
    }
   ],
   "source": [
    "sns.boxplot(df['High'])"
   ]
  },
  {
   "cell_type": "code",
   "execution_count": 300,
   "metadata": {},
   "outputs": [
    {
     "name": "stderr",
     "output_type": "stream",
     "text": [
      "/Users/nugie/opt/anaconda3/lib/python3.9/site-packages/seaborn/_decorators.py:36: FutureWarning: Pass the following variable as a keyword arg: x. From version 0.12, the only valid positional argument will be `data`, and passing other arguments without an explicit keyword will result in an error or misinterpretation.\n",
      "  warnings.warn(\n"
     ]
    },
    {
     "data": {
      "text/plain": [
       "<AxesSubplot:xlabel='Volume'>"
      ]
     },
     "execution_count": 300,
     "metadata": {},
     "output_type": "execute_result"
    },
    {
     "data": {
      "image/png": "[encoded data removed]",
      "text/plain": [
       "<Figure size 432x288 with 1 Axes>"
      ]
     },
     "metadata": {},
     "output_type": "display_data"
    }
   ],
   "source": [
    "sns.boxplot(df['Volume'])"
   ]
  },
  {
   "cell_type": "markdown",
   "metadata": {},
   "source": [
    "#### Menghilangkan outliers"
   ]
  },
  {
   "cell_type": "code",
   "execution_count": 301,
   "metadata": {},
   "outputs": [],
   "source": [
    "r = df['Volume'].quantile(0.90)\n",
    "df_1 = df[df['Volume'] < r]"
   ]
  },
  {
   "cell_type": "code",
   "execution_count": 302,
   "metadata": {},
   "outputs": [],
   "source": [
    "r = df_1['Open'].quantile(0.90)\n",
    "df_2 = df_1[df_1['Open'] < r]"
   ]
  },
  {
   "cell_type": "code",
   "execution_count": 303,
   "metadata": {},
   "outputs": [],
   "source": [
    "r = df_2['Close'].quantile(0.90)\n",
    "df_3 = df_2[df_2['Close'] < r]"
   ]
  },
  {
   "cell_type": "code",
   "execution_count": 304,
   "metadata": {},
   "outputs": [],
   "source": [
    "r = df_3['High'].quantile(0.90)\n",
    "df_4 = df_3[df_3['High'] < r]"
   ]
  },
  {
   "cell_type": "code",
   "execution_count": 305,
   "metadata": {},
   "outputs": [],
   "source": [
    "r = df_4['Low'].quantile(0.90)\n",
    "df_5 = df_4[df_4['Low'] < r]"
   ]
  },
  {
   "cell_type": "code",
   "execution_count": 306,
   "metadata": {},
   "outputs": [],
   "source": [
    "df_no_outliers = df_5.reset_index(drop=True)"
   ]
  },
  {
   "cell_type": "code",
   "execution_count": 307,
   "metadata": {},
   "outputs": [
    {
     "name": "stdout",
     "output_type": "stream",
     "text": [
      "<class 'pandas.core.frame.DataFrame'>\n",
      "RangeIndex: 997 entries, 0 to 996\n",
      "Data columns (total 6 columns):\n",
      " #   Column     Non-Null Count  Dtype  \n",
      "---  ------     --------------  -----  \n",
      " 0   Open       997 non-null    float64\n",
      " 1   High       997 non-null    float64\n",
      " 2   Low        997 non-null    float64\n",
      " 3   Close      997 non-null    float64\n",
      " 4   Volume     997 non-null    int64  \n",
      " 5   Adj Close  997 non-null    float64\n",
      "dtypes: float64(5), int64(1)\n",
      "memory usage: 46.9 KB\n"
     ]
    }
   ],
   "source": [
    "# cek dataframe setelah menghilangkan outliers\n",
    "\n",
    "df_no_outliers.info()"
   ]
  },
  {
   "cell_type": "markdown",
   "metadata": {},
   "source": [
    "#### Pre-processing"
   ]
  },
  {
   "cell_type": "code",
   "execution_count": 308,
   "metadata": {},
   "outputs": [],
   "source": [
    "from sklearn.preprocessing import StandardScaler"
   ]
  },
  {
   "cell_type": "code",
   "execution_count": 309,
   "metadata": {},
   "outputs": [],
   "source": [
    "# melakukan data scaling\n",
    "\n",
    "scaled = StandardScaler()\n",
    "scaled.fit(df_no_outliers)\n",
    "scaled_data = scaled.transform(df_no_outliers)"
   ]
  },
  {
   "cell_type": "code",
   "execution_count": 310,
   "metadata": {},
   "outputs": [
    {
     "data": {
      "text/html": [
       "<div>\n",
       "<style scoped>\n",
       "    .dataframe tbody tr th:only-of-type {\n",
       "        vertical-align: middle;\n",
       "    }\n",
       "\n",
       "    .dataframe tbody tr th {\n",
       "        vertical-align: top;\n",
       "    }\n",
       "\n",
       "    .dataframe thead th {\n",
       "        text-align: right;\n",
       "    }\n",
       "</style>\n",
       "<table border=\"1\" class=\"dataframe\">\n",
       "  <thead>\n",
       "    <tr style=\"text-align: right;\">\n",
       "      <th></th>\n",
       "      <th>Open</th>\n",
       "      <th>High</th>\n",
       "      <th>Low</th>\n",
       "      <th>Close</th>\n",
       "      <th>Volume</th>\n",
       "      <th>Adj Close</th>\n",
       "    </tr>\n",
       "  </thead>\n",
       "  <tbody>\n",
       "    <tr>\n",
       "      <th>0</th>\n",
       "      <td>-0.674077</td>\n",
       "      <td>-0.668862</td>\n",
       "      <td>-0.734202</td>\n",
       "      <td>-0.716968</td>\n",
       "      <td>2.473789</td>\n",
       "      <td>-0.716968</td>\n",
       "    </tr>\n",
       "    <tr>\n",
       "      <th>1</th>\n",
       "      <td>-0.702666</td>\n",
       "      <td>-0.708517</td>\n",
       "      <td>-0.756901</td>\n",
       "      <td>-0.756383</td>\n",
       "      <td>1.132784</td>\n",
       "      <td>-0.756383</td>\n",
       "    </tr>\n",
       "    <tr>\n",
       "      <th>2</th>\n",
       "      <td>-0.745551</td>\n",
       "      <td>-0.752110</td>\n",
       "      <td>-0.798806</td>\n",
       "      <td>-0.800512</td>\n",
       "      <td>1.884992</td>\n",
       "      <td>-0.800512</td>\n",
       "    </tr>\n",
       "    <tr>\n",
       "      <th>3</th>\n",
       "      <td>-0.797012</td>\n",
       "      <td>-0.799500</td>\n",
       "      <td>-0.811174</td>\n",
       "      <td>-0.804939</td>\n",
       "      <td>1.908859</td>\n",
       "      <td>-0.804939</td>\n",
       "    </tr>\n",
       "    <tr>\n",
       "      <th>4</th>\n",
       "      <td>-0.800729</td>\n",
       "      <td>-0.786985</td>\n",
       "      <td>-0.802589</td>\n",
       "      <td>-0.781232</td>\n",
       "      <td>2.252799</td>\n",
       "      <td>-0.781232</td>\n",
       "    </tr>\n",
       "    <tr>\n",
       "      <th>...</th>\n",
       "      <td>...</td>\n",
       "      <td>...</td>\n",
       "      <td>...</td>\n",
       "      <td>...</td>\n",
       "      <td>...</td>\n",
       "      <td>...</td>\n",
       "    </tr>\n",
       "    <tr>\n",
       "      <th>992</th>\n",
       "      <td>1.809502</td>\n",
       "      <td>1.821282</td>\n",
       "      <td>1.833795</td>\n",
       "      <td>1.806923</td>\n",
       "      <td>0.702085</td>\n",
       "      <td>1.806923</td>\n",
       "    </tr>\n",
       "    <tr>\n",
       "      <th>993</th>\n",
       "      <td>1.804785</td>\n",
       "      <td>1.789501</td>\n",
       "      <td>1.842962</td>\n",
       "      <td>1.791071</td>\n",
       "      <td>0.296474</td>\n",
       "      <td>1.791071</td>\n",
       "    </tr>\n",
       "    <tr>\n",
       "      <th>994</th>\n",
       "      <td>1.800068</td>\n",
       "      <td>1.815516</td>\n",
       "      <td>1.846018</td>\n",
       "      <td>1.861191</td>\n",
       "      <td>0.547907</td>\n",
       "      <td>1.861191</td>\n",
       "    </tr>\n",
       "    <tr>\n",
       "      <th>995</th>\n",
       "      <td>1.863108</td>\n",
       "      <td>1.841672</td>\n",
       "      <td>1.878610</td>\n",
       "      <td>1.864619</td>\n",
       "      <td>0.413414</td>\n",
       "      <td>1.864619</td>\n",
       "    </tr>\n",
       "    <tr>\n",
       "      <th>996</th>\n",
       "      <td>1.871113</td>\n",
       "      <td>1.905655</td>\n",
       "      <td>1.917314</td>\n",
       "      <td>1.951162</td>\n",
       "      <td>0.936489</td>\n",
       "      <td>1.951162</td>\n",
       "    </tr>\n",
       "  </tbody>\n",
       "</table>\n",
       "<p>997 rows × 6 columns</p>\n",
       "</div>"
      ],
      "text/plain": [
       "         Open      High       Low     Close    Volume  Adj Close\n",
       "0   -0.674077 -0.668862 -0.734202 -0.716968  2.473789  -0.716968\n",
       "1   -0.702666 -0.708517 -0.756901 -0.756383  1.132784  -0.756383\n",
       "2   -0.745551 -0.752110 -0.798806 -0.800512  1.884992  -0.800512\n",
       "3   -0.797012 -0.799500 -0.811174 -0.804939  1.908859  -0.804939\n",
       "4   -0.800729 -0.786985 -0.802589 -0.781232  2.252799  -0.781232\n",
       "..        ...       ...       ...       ...       ...        ...\n",
       "992  1.809502  1.821282  1.833795  1.806923  0.702085   1.806923\n",
       "993  1.804785  1.789501  1.842962  1.791071  0.296474   1.791071\n",
       "994  1.800068  1.815516  1.846018  1.861191  0.547907   1.861191\n",
       "995  1.863108  1.841672  1.878610  1.864619  0.413414   1.864619\n",
       "996  1.871113  1.905655  1.917314  1.951162  0.936489   1.951162\n",
       "\n",
       "[997 rows x 6 columns]"
      ]
     },
     "execution_count": 310,
     "metadata": {},
     "output_type": "execute_result"
    }
   ],
   "source": [
    "scaled_data = pd.DataFrame(scaled_data,columns=df_no_outliers.columns.values)\n",
    "scaled_data"
   ]
  },
  {
   "cell_type": "code",
   "execution_count": 311,
   "metadata": {},
   "outputs": [],
   "source": [
    "from sklearn.model_selection import train_test_split"
   ]
  },
  {
   "cell_type": "code",
   "execution_count": 312,
   "metadata": {},
   "outputs": [],
   "source": [
    "x = scaled_data[['Open','High','Low','Volume']]\n",
    "y = scaled_data['Close']"
   ]
  },
  {
   "cell_type": "code",
   "execution_count": 313,
   "metadata": {},
   "outputs": [],
   "source": [
    "# Split data 80% training - 20% test\n",
    "\n",
    "x_train, x_test, y_train, y_test = train_test_split(x,y, test_size= 0.2)"
   ]
  },
  {
   "cell_type": "code",
   "execution_count": 314,
   "metadata": {},
   "outputs": [
    {
     "data": {
      "text/plain": [
       "((797, 4), (797,))"
      ]
     },
     "execution_count": 314,
     "metadata": {},
     "output_type": "execute_result"
    }
   ],
   "source": [
    "# melihat jumlah data training\n",
    "\n",
    "x_train.shape , y_train.shape"
   ]
  },
  {
   "cell_type": "code",
   "execution_count": 315,
   "metadata": {},
   "outputs": [
    {
     "data": {
      "text/plain": [
       "((200, 4), (200,))"
      ]
     },
     "execution_count": 315,
     "metadata": {},
     "output_type": "execute_result"
    }
   ],
   "source": [
    "# melihat jumlah data test\n",
    "\n",
    "x_test.shape , y_test.shape"
   ]
  },
  {
   "cell_type": "markdown",
   "metadata": {},
   "source": [
    "#### Pemodelan"
   ]
  },
  {
   "cell_type": "code",
   "execution_count": 316,
   "metadata": {},
   "outputs": [],
   "source": [
    "from sklearn.linear_model import LinearRegression"
   ]
  },
  {
   "cell_type": "code",
   "execution_count": 317,
   "metadata": {},
   "outputs": [
    {
     "data": {
      "text/plain": [
       "LinearRegression()"
      ]
     },
     "execution_count": 317,
     "metadata": {},
     "output_type": "execute_result"
    }
   ],
   "source": [
    "reg = LinearRegression()\n",
    "reg.fit(x_train,y_train)"
   ]
  },
  {
   "cell_type": "code",
   "execution_count": 318,
   "metadata": {},
   "outputs": [
    {
     "data": {
      "text/plain": [
       "array([-0.5383964 ,  0.89905348,  0.64106099, -0.00223897])"
      ]
     },
     "execution_count": 318,
     "metadata": {},
     "output_type": "execute_result"
    }
   ],
   "source": [
    "reg.coef_"
   ]
  },
  {
   "cell_type": "code",
   "execution_count": 319,
   "metadata": {},
   "outputs": [
    {
     "data": {
      "text/plain": [
       "-1.0159032515180688e-05"
      ]
     },
     "execution_count": 319,
     "metadata": {},
     "output_type": "execute_result"
    }
   ],
   "source": [
    "reg.intercept_"
   ]
  },
  {
   "cell_type": "code",
   "execution_count": 320,
   "metadata": {},
   "outputs": [],
   "source": [
    "train_predict = reg.predict(x_train)"
   ]
  },
  {
   "cell_type": "code",
   "execution_count": 321,
   "metadata": {},
   "outputs": [
    {
     "data": {
      "text/plain": [
       "array([-0.61425937, -0.62561056,  0.7228812 ,  1.58722081,  1.79024652,\n",
       "       -0.57270034, -0.62325774,  1.8519108 ,  1.50352954, -0.47647095,\n",
       "       -0.61051721, -0.63801192,  1.89665769,  0.50679682,  1.68100393,\n",
       "       -0.51976355,  1.28907102, -0.74090825, -0.733658  , -0.68365939,\n",
       "        1.80141774, -0.66690438,  0.77022941, -0.70454812, -0.73905571,\n",
       "       -0.67564626, -0.73400963, -0.59850819, -0.73902668, -0.52364372,\n",
       "       -0.57134378, -0.51625039,  1.91285137,  1.88067815, -0.71694947,\n",
       "       -0.44355709, -0.69200781, -0.493679  , -0.62140044,  1.45256298,\n",
       "       -0.49057198, -0.61683401, -0.61541065, -0.62486823, -0.72850481,\n",
       "       -0.63138195,  0.33103244, -0.64360471, -0.72518888, -0.62710598,\n",
       "       -0.54825996, -0.62987132, -0.49126556,  1.52521385,  1.81553729,\n",
       "       -0.73970308, -0.73003478,  1.92695685,  1.71527537, -0.5813851 ,\n",
       "        1.52071449, -0.62606917, -0.69394952, -0.60970524, -0.60424607,\n",
       "       -0.78014401,  1.66230183, -0.53640862, -0.74945456,  1.85603918,\n",
       "        1.70085059,  1.06555957, -0.68286954, -0.59216107,  1.81937821,\n",
       "       -0.70789783,  1.00639337, -0.71389553, -0.61410269, -0.64562549,\n",
       "        1.61592236, -0.56179112, -0.61769492, -0.59478033,  1.70216672,\n",
       "       -0.54501508,  1.86675724, -0.53923425, -0.23035651,  1.72784827,\n",
       "       -0.56380932,  0.73596495, -0.63766522, -0.59529597,  1.85509828,\n",
       "       -0.55948163, -0.49745729,  1.58703094,  1.68983371, -0.53009097,\n",
       "       -0.64205919, -0.61819381, -0.52884869, -0.59059676, -0.56843647,\n",
       "        1.38284838,  1.93289422,  1.60281575, -0.76545298, -0.703353  ,\n",
       "       -0.5431155 , -0.6119635 , -0.58875551,  1.70211638,  1.08349701,\n",
       "       -0.58998041,  1.78567704, -0.69671724, -0.59413553,  1.91851229,\n",
       "       -0.59671851, -0.63668968, -0.61346897,  0.42509142,  1.59742734,\n",
       "       -0.5843412 , -0.55283372, -0.64565149, -0.74540098, -0.65294404,\n",
       "       -0.65181646, -0.60052308, -0.54879809, -0.64602569, -0.62039512,\n",
       "        1.86989008, -0.65244329, -0.55600656,  0.68029674, -0.48172853,\n",
       "       -0.62876533, -0.74820579, -0.71329468, -0.68248363, -0.58071804,\n",
       "       -0.73618833, -0.60145162,  1.57964328, -0.6832144 , -0.53630653,\n",
       "       -0.47067737, -0.63523815,  1.86962095,  1.86757501, -0.65129168,\n",
       "        1.08428884, -0.61158307,  1.84692405,  1.5260657 , -0.65528928,\n",
       "       -0.36297143,  1.73360761, -0.55856158, -0.60653141, -0.73807263,\n",
       "       -0.63141761, -0.64254789, -0.62460536, -0.57873578, -0.53192712,\n",
       "        1.68951933,  1.90265267, -0.64932476, -0.50687779, -0.53888752,\n",
       "       -0.56021859,  1.78010626, -0.54877528, -0.66333418,  1.6659907 ,\n",
       "       -0.73876865, -0.59283866, -0.64047036,  1.70807355, -0.44698145,\n",
       "        1.88731104, -0.68754165, -0.62382987, -0.52233224, -0.70004077,\n",
       "       -0.55238905,  1.80478273, -0.63419286, -0.75690505, -0.63790958,\n",
       "       -0.72210119,  1.05165526, -0.56848857, -0.55115621,  1.91391148,\n",
       "       -0.48817741, -0.28885121, -0.6226828 , -0.38127557,  1.67139755,\n",
       "       -0.74509332, -0.67858708,  1.3201461 ,  1.61356783, -0.53213026,\n",
       "       -0.68685962, -0.55895176, -0.22467536, -0.64093752,  1.9710983 ,\n",
       "       -0.58070424, -0.69189496,  1.02852469, -0.52957594,  1.53822963,\n",
       "       -0.69087947,  0.34368454, -0.57824337, -0.56323965,  1.5739435 ,\n",
       "       -0.61914575, -0.61370727, -0.66133073,  1.32696769,  1.88030954,\n",
       "       -0.6148323 ,  1.70466086, -0.58570185, -0.50948356, -0.63017448,\n",
       "       -0.72106263,  1.67963428, -0.62179859, -0.57924493, -0.73471384,\n",
       "        1.09962352, -0.58164683, -0.63145765,  1.2397778 ,  1.81298539,\n",
       "       -0.51922733,  1.86214232,  1.68118196,  1.88889267, -0.55601954,\n",
       "        1.84612988,  1.67051573, -0.65033403, -0.6246884 , -0.29183752,\n",
       "       -0.62344408,  1.92537271,  1.78140153, -0.61757042, -0.72189005,\n",
       "       -0.52856563, -0.57683757, -0.53546689,  1.20554614, -0.5393351 ,\n",
       "       -0.74654928, -0.64492134, -0.53809211,  1.52499291, -0.59953402,\n",
       "       -0.62351727, -0.74644818, -0.59086101,  1.77959017, -0.63434598,\n",
       "        1.76277681, -0.62648806, -0.63426   , -0.53463146,  0.87503364,\n",
       "       -0.66792947, -0.57195827,  1.89250871, -0.67365255, -0.63017123,\n",
       "       -0.70712949, -0.64290151, -0.55278186,  1.70174671, -0.67427628,\n",
       "       -0.62330361, -0.6395002 , -0.48986456,  1.70439552, -0.71515411,\n",
       "       -0.57645754,  1.79515375,  1.68747222,  1.81239634, -0.72569298,\n",
       "        1.78866263, -0.56243149,  1.82055994, -0.73385918, -0.63566825,\n",
       "       -0.55694833, -0.71386927,  0.41723425,  1.73124299,  1.50100251,\n",
       "       -0.64029714, -0.68424445, -0.60142209,  1.75963084, -0.61353348,\n",
       "       -0.47254012, -0.62997978,  0.62968179, -0.66846209, -0.561803  ,\n",
       "       -0.74609723, -0.57475332, -0.77354103, -0.63077014, -0.65652506,\n",
       "       -0.75321767,  1.8605324 , -0.49851016, -0.5715596 ,  1.80508701,\n",
       "       -0.69630503,  1.75414792,  1.31759621,  0.70035187, -0.59970432,\n",
       "       -0.54178891,  0.9491267 ,  1.79816   , -0.59638841, -0.66131622,\n",
       "       -0.69877794,  1.75494633,  1.46914453,  1.4329723 , -0.59824023,\n",
       "       -0.6173665 , -0.64020358, -0.60881401,  1.86517651, -0.63672871,\n",
       "       -0.55800235,  1.92269262, -0.54664884, -0.59786643, -0.65657307,\n",
       "       -0.6908341 ,  1.01773399, -0.75091296, -0.63500829, -0.58166602,\n",
       "       -0.54160009,  1.68132948,  1.83869053, -0.64737059, -0.4304996 ,\n",
       "       -0.53192769,  1.82744794, -0.65106091, -0.5456747 , -0.55681113,\n",
       "       -0.69785971, -0.69348946, -0.67665003,  1.60515407, -0.63172504,\n",
       "       -0.55431545, -0.55606197, -0.78426093,  1.9304071 , -0.59697784,\n",
       "       -0.60533974, -0.4888645 , -0.72876877, -0.61559679, -0.48610205,\n",
       "        1.08437748, -0.68190799, -0.60282981, -0.5579535 , -0.62864336,\n",
       "        0.41563208,  0.45976366,  1.87969865, -0.7439615 , -0.70247867,\n",
       "        0.73084685, -0.64679757, -0.64083566,  1.86502151, -0.57866088,\n",
       "        1.64897291, -0.58068578, -0.24659968, -0.6234871 , -0.54620589,\n",
       "       -0.40539262, -0.62404965,  1.9554232 ,  1.72569554,  1.05285343,\n",
       "       -0.61429582, -0.52575032, -0.64798885,  1.89227902,  1.82823999,\n",
       "       -0.68654807, -0.58336928,  1.46120466, -0.6893755 ,  1.3909646 ,\n",
       "       -0.49100678, -0.59318773,  1.91940977, -0.77041706,  1.14101252,\n",
       "       -0.46879698,  1.85370133, -0.61604935, -0.65049474, -0.61049838,\n",
       "       -0.61347606, -0.63502657, -0.69468042,  1.87615959, -0.61983617,\n",
       "       -0.73326058, -0.60734507, -0.59947781, -0.6539025 , -0.56820654,\n",
       "       -0.65614569, -0.62387197,  1.71832567, -0.28554734,  1.89174579,\n",
       "       -0.57917454,  0.94502251, -0.7434644 , -0.62160203, -0.54948745,\n",
       "       -0.38684783, -0.68665047, -0.65586825,  1.79249473, -0.77414316,\n",
       "       -0.49914103, -0.54507616, -0.54429024, -0.2487487 , -0.5177705 ,\n",
       "       -0.55315263,  1.30119687, -0.73313254, -0.5872096 , -0.63252417,\n",
       "       -0.59670343, -0.67332188,  1.80718723,  1.54629875, -0.6244663 ,\n",
       "       -0.75274125,  0.32743417,  1.62661303, -0.55123397,  1.65087171,\n",
       "       -0.3295186 ,  1.86931388, -0.74213713, -0.73405998,  1.07295999,\n",
       "       -0.65635187, -0.54383014, -0.57995793, -0.56612291, -0.63934389,\n",
       "       -0.55873161, -0.63665957, -0.56499714, -0.61043376,  1.85885874,\n",
       "        1.89861838,  1.8395375 ,  1.34918075,  1.6007506 , -0.61642447,\n",
       "       -0.57805226, -0.70444824, -0.79599473, -0.53823295, -0.54424558,\n",
       "       -0.53014661,  1.43347613,  1.60442767, -0.70669119, -0.57700665,\n",
       "       -0.58181596, -0.69918191,  0.66210662,  0.21229894, -0.6053038 ,\n",
       "        1.90690395,  1.83719269, -0.63511703,  1.60607944, -0.56462497,\n",
       "       -0.65848405,  1.77641687,  1.85938233, -0.5464444 ,  1.81210828,\n",
       "       -0.66376129,  1.75820434, -0.57767771, -0.55147777, -0.55297552,\n",
       "       -0.53947751, -0.56827492, -0.68644046, -0.638135  ,  1.79866184,\n",
       "       -0.58609462, -0.6276253 , -0.65873106,  1.8841741 ,  1.59948772,\n",
       "       -0.64375018,  1.14818243, -0.67995423, -0.58171375, -0.73663863,\n",
       "       -0.61608677, -0.49328569, -0.66244193,  1.57793688, -0.2600973 ,\n",
       "       -0.65708127,  1.86572789,  1.78567449,  1.54820173, -0.64516452,\n",
       "       -0.58150235,  1.86360103,  1.66383326, -0.54269873, -0.58751993,\n",
       "       -0.56887963, -0.58028897,  0.40886219, -0.55814291, -0.62729766,\n",
       "       -0.63409937, -0.59931103,  0.25574931,  1.79479065, -0.5952315 ,\n",
       "        1.70936973, -0.61649004,  1.30630127, -0.68117227, -0.55104699,\n",
       "       -0.67801697,  0.6935936 , -0.64847622, -0.62357362,  1.74712355,\n",
       "        1.67384678, -0.32880849,  1.90431741, -0.71362572, -0.53327637,\n",
       "       -0.48302348,  1.33983047,  1.83132741, -0.5818601 , -0.60958942,\n",
       "       -0.60363957, -0.69141183, -0.46897841, -0.7502605 , -0.6312125 ,\n",
       "       -0.61831337, -0.61787791, -0.60865367,  1.76886768,  1.73306699,\n",
       "       -0.76055595, -0.56471378, -0.61810416, -0.70564651, -0.60948259,\n",
       "       -0.57522223, -0.54990103, -0.55274966, -0.5456677 , -0.43637842,\n",
       "        1.67729556, -0.46492472, -0.62498644,  1.09445378, -0.5430375 ,\n",
       "       -0.47640827, -0.69997688,  1.91608176, -0.62746524, -0.70317603,\n",
       "       -0.53357708,  1.39818715, -0.7895622 , -0.6674093 ,  1.90649208,\n",
       "       -0.69398237,  1.12018071, -0.67520681, -0.68374228,  1.89605342,\n",
       "       -0.52917782,  1.75896461, -0.64913705, -0.63393365,  1.82098242,\n",
       "       -0.73408667, -0.48339277, -0.53586296,  0.5227127 , -0.63313848,\n",
       "        1.36170908,  1.8545516 , -0.54003842, -0.57150478,  1.16983707,\n",
       "       -0.65122817, -0.52983018,  1.33366385, -0.75989445, -0.62426608,\n",
       "        1.68173151,  0.24342703, -0.63349777,  1.9289292 , -0.49319935,\n",
       "       -0.63636795, -0.62375411, -0.66936703, -0.48985336,  1.84526924,\n",
       "       -0.75199089, -0.43477421, -0.49773453, -0.63799681, -0.63262866,\n",
       "        1.80344654, -0.58012077, -0.73952442, -0.62682695, -0.72728716,\n",
       "       -0.71688553,  1.90115974, -0.56779492, -0.52537596, -0.63562108,\n",
       "        1.83910054, -0.64653441, -0.70372025, -0.61101597, -0.58861474,\n",
       "        1.72951897, -0.57157946,  1.97258365, -0.49054956, -0.53323257,\n",
       "       -0.60709042, -0.61974162, -0.70698616, -0.64684894, -0.57223921,\n",
       "        1.51318011,  1.11607588, -0.63541925, -0.63048231, -0.62977322,\n",
       "       -0.54701003,  1.7131088 , -0.64400725, -0.59390862, -0.61767161,\n",
       "       -0.49743825,  1.89135474, -0.48461734, -0.57841614, -0.64129625,\n",
       "       -0.70951259, -0.52439569, -0.57214648,  1.34200227, -0.53830151,\n",
       "       -0.65987844, -0.3919429 , -0.47768806,  1.67717943, -0.55463642,\n",
       "        1.76740088, -0.73794655,  1.9476548 , -0.61553938, -0.61267034,\n",
       "       -0.68225636, -0.60965598, -0.6798329 ,  1.74564488, -0.56054818,\n",
       "        1.37565524, -0.47136723, -0.58967909,  1.84433526, -0.65783421,\n",
       "       -0.49878927, -0.54374079, -0.72512941, -0.68938704,  1.10480819,\n",
       "       -0.5706147 , -0.62944363, -0.70059999, -0.63403031,  0.98491001,\n",
       "       -0.55805605, -0.6406483 , -0.54962125, -0.63983194, -0.63030609,\n",
       "       -0.62471503,  1.75732649,  1.55781392, -0.62168906, -0.49077033,\n",
       "       -0.58550605,  1.5915232 , -0.72144803, -0.7310345 , -0.60851975,\n",
       "        1.65504885,  1.87529369,  1.86306917, -0.65165117, -0.70171435,\n",
       "       -0.6066762 , -0.64840432, -0.54487065, -0.60017062,  1.71414791,\n",
       "       -0.49955917, -0.58244711,  1.49315251, -0.68911212, -0.66814444,\n",
       "       -0.72390948,  1.88557966,  1.20109024, -0.73828676, -0.73807312,\n",
       "       -0.67379498, -0.70339073, -0.5458241 , -0.65149392,  1.59066731,\n",
       "        1.90816622,  1.6610101 , -0.69898349, -0.54843106, -0.7259154 ,\n",
       "       -0.73673767, -0.73666623, -0.49881392,  1.49498746,  1.87488499,\n",
       "       -0.79109969, -0.2623454 , -0.56228142, -0.6834312 , -0.75385164,\n",
       "       -0.41714615, -0.62231059, -0.52547994, -0.60701391, -0.64146962,\n",
       "       -0.72907782, -0.55248275])"
      ]
     },
     "execution_count": 321,
     "metadata": {},
     "output_type": "execute_result"
    }
   ],
   "source": [
    "train_predict"
   ]
  },
  {
   "cell_type": "code",
   "execution_count": 322,
   "metadata": {},
   "outputs": [],
   "source": [
    "predict_train_table = pd.DataFrame({\n",
    "    'Actual':y_train,'prediction': train_predict})"
   ]
  },
  {
   "cell_type": "code",
   "execution_count": 323,
   "metadata": {},
   "outputs": [
    {
     "data": {
      "text/html": [
       "<div>\n",
       "<style scoped>\n",
       "    .dataframe tbody tr th:only-of-type {\n",
       "        vertical-align: middle;\n",
       "    }\n",
       "\n",
       "    .dataframe tbody tr th {\n",
       "        vertical-align: top;\n",
       "    }\n",
       "\n",
       "    .dataframe thead th {\n",
       "        text-align: right;\n",
       "    }\n",
       "</style>\n",
       "<table border=\"1\" class=\"dataframe\">\n",
       "  <thead>\n",
       "    <tr style=\"text-align: right;\">\n",
       "      <th></th>\n",
       "      <th>Actual</th>\n",
       "      <th>prediction</th>\n",
       "    </tr>\n",
       "  </thead>\n",
       "  <tbody>\n",
       "    <tr>\n",
       "      <th>0</th>\n",
       "      <td>-0.620285</td>\n",
       "      <td>-0.614259</td>\n",
       "    </tr>\n",
       "    <tr>\n",
       "      <th>1</th>\n",
       "      <td>-0.624998</td>\n",
       "      <td>-0.625611</td>\n",
       "    </tr>\n",
       "    <tr>\n",
       "      <th>2</th>\n",
       "      <td>0.732417</td>\n",
       "      <td>0.722881</td>\n",
       "    </tr>\n",
       "    <tr>\n",
       "      <th>3</th>\n",
       "      <td>1.614843</td>\n",
       "      <td>1.587221</td>\n",
       "    </tr>\n",
       "    <tr>\n",
       "      <th>4</th>\n",
       "      <td>1.777219</td>\n",
       "      <td>1.790247</td>\n",
       "    </tr>\n",
       "    <tr>\n",
       "      <th>5</th>\n",
       "      <td>-0.572872</td>\n",
       "      <td>-0.572700</td>\n",
       "    </tr>\n",
       "    <tr>\n",
       "      <th>6</th>\n",
       "      <td>-0.619714</td>\n",
       "      <td>-0.623258</td>\n",
       "    </tr>\n",
       "    <tr>\n",
       "      <th>7</th>\n",
       "      <td>1.857621</td>\n",
       "      <td>1.851911</td>\n",
       "    </tr>\n",
       "    <tr>\n",
       "      <th>8</th>\n",
       "      <td>1.519446</td>\n",
       "      <td>1.503530</td>\n",
       "    </tr>\n",
       "    <tr>\n",
       "      <th>9</th>\n",
       "      <td>-0.480188</td>\n",
       "      <td>-0.476471</td>\n",
       "    </tr>\n",
       "    <tr>\n",
       "      <th>10</th>\n",
       "      <td>-0.607003</td>\n",
       "      <td>-0.610517</td>\n",
       "    </tr>\n",
       "    <tr>\n",
       "      <th>11</th>\n",
       "      <td>-0.636851</td>\n",
       "      <td>-0.638012</td>\n",
       "    </tr>\n",
       "    <tr>\n",
       "      <th>12</th>\n",
       "      <td>1.892753</td>\n",
       "      <td>1.896658</td>\n",
       "    </tr>\n",
       "    <tr>\n",
       "      <th>13</th>\n",
       "      <td>0.502635</td>\n",
       "      <td>0.506797</td>\n",
       "    </tr>\n",
       "    <tr>\n",
       "      <th>14</th>\n",
       "      <td>1.663970</td>\n",
       "      <td>1.681004</td>\n",
       "    </tr>\n",
       "    <tr>\n",
       "      <th>15</th>\n",
       "      <td>-0.517176</td>\n",
       "      <td>-0.519764</td>\n",
       "    </tr>\n",
       "    <tr>\n",
       "      <th>16</th>\n",
       "      <td>1.243250</td>\n",
       "      <td>1.289071</td>\n",
       "    </tr>\n",
       "    <tr>\n",
       "      <th>17</th>\n",
       "      <td>-0.739960</td>\n",
       "      <td>-0.740908</td>\n",
       "    </tr>\n",
       "    <tr>\n",
       "      <th>18</th>\n",
       "      <td>-0.732820</td>\n",
       "      <td>-0.733658</td>\n",
       "    </tr>\n",
       "    <tr>\n",
       "      <th>19</th>\n",
       "      <td>-0.680837</td>\n",
       "      <td>-0.683659</td>\n",
       "    </tr>\n",
       "  </tbody>\n",
       "</table>\n",
       "</div>"
      ],
      "text/plain": [
       "      Actual  prediction\n",
       "0  -0.620285   -0.614259\n",
       "1  -0.624998   -0.625611\n",
       "2   0.732417    0.722881\n",
       "3   1.614843    1.587221\n",
       "4   1.777219    1.790247\n",
       "5  -0.572872   -0.572700\n",
       "6  -0.619714   -0.623258\n",
       "7   1.857621    1.851911\n",
       "8   1.519446    1.503530\n",
       "9  -0.480188   -0.476471\n",
       "10 -0.607003   -0.610517\n",
       "11 -0.636851   -0.638012\n",
       "12  1.892753    1.896658\n",
       "13  0.502635    0.506797\n",
       "14  1.663970    1.681004\n",
       "15 -0.517176   -0.519764\n",
       "16  1.243250    1.289071\n",
       "17 -0.739960   -0.740908\n",
       "18 -0.732820   -0.733658\n",
       "19 -0.680837   -0.683659"
      ]
     },
     "execution_count": 323,
     "metadata": {},
     "output_type": "execute_result"
    }
   ],
   "source": [
    "predict_train_table=predict_train_table.reset_index(drop=True)\n",
    "predict_train_table.head(20)"
   ]
  },
  {
   "cell_type": "code",
   "execution_count": 324,
   "metadata": {},
   "outputs": [
    {
     "data": {
      "text/plain": [
       "<AxesSubplot:>"
      ]
     },
     "execution_count": 324,
     "metadata": {},
     "output_type": "execute_result"
    },
    {
     "data": {
      "image/png": "[encoded data removed]",
      "text/plain": [
       "<Figure size 432x288 with 1 Axes>"
      ]
     },
     "metadata": {},
     "output_type": "display_data"
    },
    {
     "data": {
      "image/png": "[encoded data removed]",
      "text/plain": [
       "<Figure size 432x288 with 1 Axes>"
      ]
     },
     "metadata": {},
     "output_type": "display_data"
    }
   ],
   "source": [
    "show_graph_train = np.exp(predict_train_table.head(20))\n",
    "show_graph_train.plot(kind='line')\n",
    "show_graph_train2 = np.exp(predict_train_table.head(20))\n",
    "show_graph_train2.plot(kind='bar')"
   ]
  },
  {
   "cell_type": "code",
   "execution_count": 325,
   "metadata": {},
   "outputs": [],
   "source": [
    "predict_test = reg.predict(x_test)"
   ]
  },
  {
   "cell_type": "code",
   "execution_count": 326,
   "metadata": {},
   "outputs": [],
   "source": [
    "predict_test_table = pd.DataFrame({'Actual': y_test,'Prediction': predict_test\n",
    "})"
   ]
  },
  {
   "cell_type": "code",
   "execution_count": 327,
   "metadata": {},
   "outputs": [
    {
     "data": {
      "text/html": [
       "<div>\n",
       "<style scoped>\n",
       "    .dataframe tbody tr th:only-of-type {\n",
       "        vertical-align: middle;\n",
       "    }\n",
       "\n",
       "    .dataframe tbody tr th {\n",
       "        vertical-align: top;\n",
       "    }\n",
       "\n",
       "    .dataframe thead th {\n",
       "        text-align: right;\n",
       "    }\n",
       "</style>\n",
       "<table border=\"1\" class=\"dataframe\">\n",
       "  <thead>\n",
       "    <tr style=\"text-align: right;\">\n",
       "      <th></th>\n",
       "      <th>Actual</th>\n",
       "      <th>Prediction</th>\n",
       "    </tr>\n",
       "  </thead>\n",
       "  <tbody>\n",
       "    <tr>\n",
       "      <th>0</th>\n",
       "      <td>-0.582012</td>\n",
       "      <td>-0.585821</td>\n",
       "    </tr>\n",
       "    <tr>\n",
       "      <th>1</th>\n",
       "      <td>-0.674267</td>\n",
       "      <td>-0.683181</td>\n",
       "    </tr>\n",
       "    <tr>\n",
       "      <th>2</th>\n",
       "      <td>-0.718681</td>\n",
       "      <td>-0.721371</td>\n",
       "    </tr>\n",
       "    <tr>\n",
       "      <th>3</th>\n",
       "      <td>-0.632281</td>\n",
       "      <td>-0.631982</td>\n",
       "    </tr>\n",
       "    <tr>\n",
       "      <th>4</th>\n",
       "      <td>-0.687834</td>\n",
       "      <td>-0.684810</td>\n",
       "    </tr>\n",
       "    <tr>\n",
       "      <th>5</th>\n",
       "      <td>-0.587581</td>\n",
       "      <td>-0.599655</td>\n",
       "    </tr>\n",
       "    <tr>\n",
       "      <th>6</th>\n",
       "      <td>-0.536169</td>\n",
       "      <td>-0.538878</td>\n",
       "    </tr>\n",
       "    <tr>\n",
       "      <th>7</th>\n",
       "      <td>1.676680</td>\n",
       "      <td>1.714397</td>\n",
       "    </tr>\n",
       "    <tr>\n",
       "      <th>8</th>\n",
       "      <td>-0.617000</td>\n",
       "      <td>-0.621449</td>\n",
       "    </tr>\n",
       "    <tr>\n",
       "      <th>9</th>\n",
       "      <td>-0.738818</td>\n",
       "      <td>-0.735452</td>\n",
       "    </tr>\n",
       "    <tr>\n",
       "      <th>10</th>\n",
       "      <td>-0.630139</td>\n",
       "      <td>-0.629192</td>\n",
       "    </tr>\n",
       "    <tr>\n",
       "      <th>11</th>\n",
       "      <td>-0.545881</td>\n",
       "      <td>-0.543065</td>\n",
       "    </tr>\n",
       "    <tr>\n",
       "      <th>12</th>\n",
       "      <td>-0.548594</td>\n",
       "      <td>-0.548610</td>\n",
       "    </tr>\n",
       "    <tr>\n",
       "      <th>13</th>\n",
       "      <td>-0.634566</td>\n",
       "      <td>-0.640950</td>\n",
       "    </tr>\n",
       "    <tr>\n",
       "      <th>14</th>\n",
       "      <td>-0.585725</td>\n",
       "      <td>-0.595022</td>\n",
       "    </tr>\n",
       "    <tr>\n",
       "      <th>15</th>\n",
       "      <td>-0.653417</td>\n",
       "      <td>-0.662509</td>\n",
       "    </tr>\n",
       "    <tr>\n",
       "      <th>16</th>\n",
       "      <td>-0.641564</td>\n",
       "      <td>-0.640420</td>\n",
       "    </tr>\n",
       "    <tr>\n",
       "      <th>17</th>\n",
       "      <td>1.804353</td>\n",
       "      <td>1.776273</td>\n",
       "    </tr>\n",
       "    <tr>\n",
       "      <th>18</th>\n",
       "      <td>-0.656559</td>\n",
       "      <td>-0.652015</td>\n",
       "    </tr>\n",
       "    <tr>\n",
       "      <th>19</th>\n",
       "      <td>-0.609288</td>\n",
       "      <td>-0.612389</td>\n",
       "    </tr>\n",
       "    <tr>\n",
       "      <th>20</th>\n",
       "      <td>-0.690405</td>\n",
       "      <td>-0.686264</td>\n",
       "    </tr>\n",
       "    <tr>\n",
       "      <th>21</th>\n",
       "      <td>-0.638422</td>\n",
       "      <td>-0.633897</td>\n",
       "    </tr>\n",
       "    <tr>\n",
       "      <th>22</th>\n",
       "      <td>-0.652132</td>\n",
       "      <td>-0.645431</td>\n",
       "    </tr>\n",
       "    <tr>\n",
       "      <th>23</th>\n",
       "      <td>1.851195</td>\n",
       "      <td>1.848933</td>\n",
       "    </tr>\n",
       "    <tr>\n",
       "      <th>24</th>\n",
       "      <td>1.343360</td>\n",
       "      <td>1.346207</td>\n",
       "    </tr>\n",
       "  </tbody>\n",
       "</table>\n",
       "</div>"
      ],
      "text/plain": [
       "      Actual  Prediction\n",
       "0  -0.582012   -0.585821\n",
       "1  -0.674267   -0.683181\n",
       "2  -0.718681   -0.721371\n",
       "3  -0.632281   -0.631982\n",
       "4  -0.687834   -0.684810\n",
       "5  -0.587581   -0.599655\n",
       "6  -0.536169   -0.538878\n",
       "7   1.676680    1.714397\n",
       "8  -0.617000   -0.621449\n",
       "9  -0.738818   -0.735452\n",
       "10 -0.630139   -0.629192\n",
       "11 -0.545881   -0.543065\n",
       "12 -0.548594   -0.548610\n",
       "13 -0.634566   -0.640950\n",
       "14 -0.585725   -0.595022\n",
       "15 -0.653417   -0.662509\n",
       "16 -0.641564   -0.640420\n",
       "17  1.804353    1.776273\n",
       "18 -0.656559   -0.652015\n",
       "19 -0.609288   -0.612389\n",
       "20 -0.690405   -0.686264\n",
       "21 -0.638422   -0.633897\n",
       "22 -0.652132   -0.645431\n",
       "23  1.851195    1.848933\n",
       "24  1.343360    1.346207"
      ]
     },
     "execution_count": 327,
     "metadata": {},
     "output_type": "execute_result"
    }
   ],
   "source": [
    "predict_test_table =predict_test_table.reset_index(drop=True)\n",
    "predict_test_table.head(25)"
   ]
  },
  {
   "cell_type": "markdown",
   "metadata": {},
   "source": [
    "#### Cek Error"
   ]
  },
  {
   "cell_type": "code",
   "execution_count": 328,
   "metadata": {},
   "outputs": [],
   "source": [
    "from sklearn.metrics import mean_absolute_error\n",
    "from sklearn.metrics import r2_score\n",
    "from sklearn import metrics\n",
    "import math"
   ]
  },
  {
   "cell_type": "code",
   "execution_count": 329,
   "metadata": {},
   "outputs": [
    {
     "data": {
      "text/plain": [
       "0.006958821798956796"
      ]
     },
     "execution_count": 329,
     "metadata": {},
     "output_type": "execute_result"
    }
   ],
   "source": [
    "metrics.mean_absolute_error(y_test,predict_test)"
   ]
  },
  {
   "cell_type": "code",
   "execution_count": 330,
   "metadata": {},
   "outputs": [
    {
     "data": {
      "text/plain": [
       "0.00013885616106387784"
      ]
     },
     "execution_count": 330,
     "metadata": {},
     "output_type": "execute_result"
    }
   ],
   "source": [
    "metrics.mean_squared_error(y_test,predict_test)"
   ]
  },
  {
   "cell_type": "code",
   "execution_count": 331,
   "metadata": {},
   "outputs": [
    {
     "data": {
      "text/plain": [
       "0.011783724413948158"
      ]
     },
     "execution_count": 331,
     "metadata": {},
     "output_type": "execute_result"
    }
   ],
   "source": [
    "math.sqrt(metrics.mean_squared_error(y_test,predict_test))"
   ]
  },
  {
   "cell_type": "code",
   "execution_count": 332,
   "metadata": {},
   "outputs": [
    {
     "data": {
      "text/plain": [
       "0.9998354034674307"
      ]
     },
     "execution_count": 332,
     "metadata": {},
     "output_type": "execute_result"
    }
   ],
   "source": [
    "metrics.r2_score(y_test,predict_test)"
   ]
  },
  {
   "cell_type": "code",
   "execution_count": 333,
   "metadata": {},
   "outputs": [],
   "source": [
    "show_graph = np.exp(predict_test_table.head(20))"
   ]
  },
  {
   "cell_type": "code",
   "execution_count": 334,
   "metadata": {},
   "outputs": [
    {
     "data": {
      "image/png": "[encoded data removed]",
      "text/plain": [
       "<Figure size 432x288 with 1 Axes>"
      ]
     },
     "metadata": {},
     "output_type": "display_data"
    }
   ],
   "source": [
    "show_graph.plot(kind='bar')\n",
    "plt.show()"
   ]
  },
  {
   "cell_type": "code",
   "execution_count": null,
   "metadata": {},
   "outputs": [],
   "source": []
  }
 ],
 "metadata": {
  "interpreter": {
   "hash": "96a802c66d4af08a06af96b6830e1555cd86e4f2c80db4ac5af8205862077d21"
  },
  "kernelspec": {
   "display_name": "Python 3.9.7 ('base')",
   "language": "python",
   "name": "python3"
  },
  "language_info": {
   "codemirror_mode": {
    "name": "ipython",
    "version": 3
   },
   "file_extension": ".py",
   "mimetype": "text/x-python",
   "name": "python",
   "nbconvert_exporter": "python",
   "pygments_lexer": "ipython3",
   "version": "3.9.7"
  },
  "orig_nbformat": 4
 },
 "nbformat": 4,
 "nbformat_minor": 2
}
